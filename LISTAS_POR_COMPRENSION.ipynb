{
  "nbformat": 4,
  "nbformat_minor": 0,
  "metadata": {
    "colab": {
      "provenance": []
    },
    "kernelspec": {
      "name": "python3",
      "display_name": "Python 3"
    },
    "language_info": {
      "name": "python"
    }
  },
  "cells": [
    {
      "cell_type": "markdown",
      "source": [
        "#4. Hallar el IMC de dichos usuarios"
      ],
      "metadata": {
        "id": "v5JhyupywfkL"
      }
    },
    {
      "cell_type": "code",
      "source": [
        "def listaIMC(usuarios):\n",
        "  sis = []\n",
        "  b=0\n",
        "  a2=0\n",
        "  for n in range (usuarios):\n",
        "    w=input(\"¿Cuál es tu nombre?  \")\n",
        "    b=int(input(\"Ingresa el peso  \"))\n",
        "    a2=int(input(\"Ingresa la altura  \"))\n",
        "\n",
        "\n",
        "    sis.append((w,b/a2**2))\n",
        "  return sis\n",
        "\n",
        "\n",
        "user=int(input(\"¿Cuántos usuarios hay? \"))\n",
        "\n",
        "listaIMC(user)\n",
        "\n"
      ],
      "metadata": {
        "colab": {
          "base_uri": "https://localhost:8080/"
        },
        "id": "-xVH0Bqpk0YT",
        "outputId": "5fc41a0c-8945-4ff3-b488-adec71dd4fc1"
      },
      "execution_count": null,
      "outputs": [
        {
          "name": "stdout",
          "output_type": "stream",
          "text": [
            "¿Cuántos usuarios hay? 2\n",
            "¿Cuál es tu nombre?  ju\n",
            "Ingresa el peso  12\n",
            "Ingresa la altura  13\n",
            "¿Cuál es tu nombre?  juuu\n",
            "Ingresa el peso  13\n",
            "Ingresa la altura  15\n"
          ]
        },
        {
          "output_type": "execute_result",
          "data": {
            "text/plain": [
              "[('ju', 0.07100591715976332), ('juuu', 0.057777777777777775)]"
            ]
          },
          "metadata": {},
          "execution_count": 4
        }
      ]
    },
    {
      "cell_type": "code",
      "source": [
        "sis=listaIMC(user)\n",
        "sis2=[n for n in (sis) if n [1]>=18.5]\n",
        "print(sis)"
      ],
      "metadata": {
        "colab": {
          "base_uri": "https://localhost:8080/"
        },
        "id": "kaHz4zL2qcKb",
        "outputId": "cc5d55c0-2375-413c-90be-0d351e1e07b9"
      },
      "execution_count": null,
      "outputs": [
        {
          "output_type": "stream",
          "name": "stdout",
          "text": [
            "¿Cuál es tu nombre?  ju\n",
            "Ingresa el peso  12\n",
            "Ingresa la altura  13\n",
            "¿Cuál es tu nombre?  juuu\n",
            "Ingresa el peso  13\n",
            "Ingresa la altura  15\n",
            "[('ju', 0.07100591715976332), ('juuu', 0.057777777777777775)]\n"
          ]
        }
      ]
    },
    {
      "cell_type": "code",
      "source": [
        "personas=[('pedro',33),('ana',3),('juan',13),('carla',45)]\n",
        "personas_mayores=[]\n",
        "\n",
        "for per in personas:\n",
        "          if per[1]>=18:\n",
        "            personas_mayores.append(per)\n",
        "            \n",
        "            \n",
        "print(personas_mayores)\n"
      ],
      "metadata": {
        "colab": {
          "base_uri": "https://localhost:8080/"
        },
        "id": "Jn0A1HU2lmGd",
        "outputId": "e41a179c-42f4-407e-e39d-d6bb2234ce33"
      },
      "execution_count": null,
      "outputs": [
        {
          "output_type": "stream",
          "name": "stdout",
          "text": [
            "[('pedro', 33), ('carla', 45)]\n"
          ]
        }
      ]
    }
  ]
}