{
  "nbformat": 4,
  "nbformat_minor": 0,
  "metadata": {
    "colab": {
      "provenance": []
    },
    "kernelspec": {
      "name": "python3",
      "display_name": "Python 3"
    },
    "language_info": {
      "name": "python"
    }
  },
  "cells": [
    {
      "cell_type": "markdown",
      "source": [
        "#4. Hallar el IMC de dichos usuarios MIO\n"
      ],
      "metadata": {
        "id": "v5JhyupywfkL"
      }
    },
    {
      "cell_type": "code",
      "source": [
        "#Tradicional\n",
        "def listaIMC(usuarios):\n",
        "  sis = []\n",
        "  imc=[]\n",
        "  b=0\n",
        "  a2=0\n",
        "  for n in range (usuarios):\n",
        "    w=input(\"¿Cuál es tu nombre?  \")\n",
        "    b=int(input(\"Ingresa el peso  \"))\n",
        "    a2=int(input(\"Ingresa la altura  \"))\n",
        "    sis.append((w,b/a2**2))\n",
        "    imc.append(b/a2**2)\n",
        "  return sis,imc\n",
        "\n",
        "\n",
        "user=int(input(\"¿Cuántos usuarios hay? \"))\n",
        "\n",
        "sis,imc=listaIMC(user)\n",
        "\n"
      ],
      "metadata": {
        "colab": {
          "base_uri": "https://localhost:8080/"
        },
        "id": "-xVH0Bqpk0YT",
        "outputId": "1c1c847d-b605-455f-92be-6734db6e9ae7"
      },
      "execution_count": 65,
      "outputs": [
        {
          "name": "stdout",
          "output_type": "stream",
          "text": [
            "¿Cuántos usuarios hay? 1\n",
            "¿Cuál es tu nombre?  dd\n",
            "Ingresa el peso  68\n",
            "Ingresa la altura  165\n"
          ]
        }
      ]
    },
    {
      "cell_type": "code",
      "source": [
        "imc"
      ],
      "metadata": {
        "colab": {
          "base_uri": "https://localhost:8080/"
        },
        "id": "zjHbu-3Bf0pd",
        "outputId": "b037505a-2d76-431d-c024-1aada107a0e0"
      },
      "execution_count": 66,
      "outputs": [
        {
          "output_type": "execute_result",
          "data": {
            "text/plain": [
              "[0.002497704315886134]"
            ]
          },
          "metadata": {},
          "execution_count": 66
        }
      ]
    },
    {
      "cell_type": "code",
      "source": [
        "#Comprensión\n",
        "sis=listaIMC(user)\n",
        "sis2=[n for n in (sis) if n [1]>=18.5]\n",
        "print(sis)"
      ],
      "metadata": {
        "colab": {
          "base_uri": "https://localhost:8080/"
        },
        "id": "kaHz4zL2qcKb",
        "outputId": "7b80efd3-1090-4828-f2b4-595405b035e7"
      },
      "execution_count": 3,
      "outputs": [
        {
          "output_type": "stream",
          "name": "stdout",
          "text": [
            "¿Cuál es tu nombre?  juan\n",
            "Ingresa el peso  78\n",
            "Ingresa la altura  90\n",
            "¿Cuál es tu nombre?  jii\n",
            "Ingresa el peso  89\n",
            "Ingresa la altura  79\n",
            "[('juan', 0.00962962962962963), ('jii', 0.01426053517064573)]\n"
          ]
        }
      ]
    },
    {
      "cell_type": "code",
      "source": [
        "sis"
      ],
      "metadata": {
        "colab": {
          "base_uri": "https://localhost:8080/"
        },
        "id": "33LXmlpUc3cw",
        "outputId": "b1a3f8bb-4ea2-4418-ec94-090d2584621b"
      },
      "execution_count": 40,
      "outputs": [
        {
          "output_type": "execute_result",
          "data": {
            "text/plain": [
              "[('ana', 0.0034602076124567475), ('sofia', 0.001384083044982699)]"
            ]
          },
          "metadata": {},
          "execution_count": 40
        }
      ]
    },
    {
      "cell_type": "code",
      "source": [
        "sis[1][1]"
      ],
      "metadata": {
        "colab": {
          "base_uri": "https://localhost:8080/"
        },
        "id": "kXdKzWLPdIuH",
        "outputId": "f8833e29-ca66-4fa8-b8ee-170c11ba95f0"
      },
      "execution_count": 23,
      "outputs": [
        {
          "output_type": "execute_result",
          "data": {
            "text/plain": [
              "0.001"
            ]
          },
          "metadata": {},
          "execution_count": 23
        }
      ]
    },
    {
      "cell_type": "code",
      "source": [
        "#Lambda\n",
        "#IMC2=[28,30,40,35,100]\n",
        "#sis=listaIMC(user)\n",
        "sis3=list(map(lambda x: \"peso insuficiente\" if x<18.5 else \"peso normal\" if (x>=18.5 and x<24.9) else \"sobrepeso\" if (x>=24.9 and x<30) else \"obesidad\",imc))\n",
        "sis3"
      ],
      "metadata": {
        "colab": {
          "base_uri": "https://localhost:8080/"
        },
        "id": "k7spxrJ4PAAb",
        "outputId": "95a83a19-2d7e-49d1-fbaf-37ebc7871c9a"
      },
      "execution_count": 39,
      "outputs": [
        {
          "output_type": "execute_result",
          "data": {
            "text/plain": [
              "['peso insuficiente', 'peso insuficiente']"
            ]
          },
          "metadata": {},
          "execution_count": 39
        }
      ]
    },
    {
      "cell_type": "markdown",
      "source": [
        "#EJERCICIOS COMPAÑEROS"
      ],
      "metadata": {
        "id": "aaUIomsvktag"
      }
    },
    {
      "cell_type": "markdown",
      "source": [
        "#1. Samuelle"
      ],
      "metadata": {
        "id": "L0M9-vBuk6dw"
      }
    },
    {
      "cell_type": "markdown",
      "source": [
        "##La lista por comprensión es una construcción sintáctica disponible en Python con la que se pueden crear lista a partir de otros elementos iterables. Siendo una de las  contracciones mas elegantes del lenguaje. A continuación, se mostrará la sintaxis básica para trabajar  con las listas por comprensión"
      ],
      "metadata": {
        "id": "Ok5-5ujfo2EZ"
      }
    },
    {
      "cell_type": "code",
      "source": [
        "#Los tipos de datos mutables son todos aquellos a los que es posible cambia, modificar o actuar\n",
        "#Los objetos mutables más comunes son las listas, diccionarios y conjuntos que sirven para guiar\n",
        "\n",
        "#SINTAXIS DE LISTAS POR COMPRENSIÓN\n",
        "\n",
        "nueva_lista = [expresion bucle_for condiciones]\n",
        "\n",
        "#Entre corchetes se escribe una expresión seguida de un bucle for sobre el que se itera, para"
      ],
      "metadata": {
        "id": "LVVomvQSpcLg"
      },
      "execution_count": null,
      "outputs": []
    },
    {
      "cell_type": "code",
      "source": [
        "#EJEMPLO\n",
        "\n",
        "numbers = [1,2,3,4]\n",
        "results = []\n",
        "for n in numbers:\n",
        "    results.append(n+1)\n",
        "    "
      ],
      "metadata": {
        "id": "8N_NFssxqNVe"
      },
      "execution_count": null,
      "outputs": []
    },
    {
      "cell_type": "markdown",
      "source": [
        "#CONDICIONES EN LAS LISTAS POR COMPRENSIÓN\n",
        "##Es posible añadir condiciones a las listas por comprensión en Python. Para lo que se tiene que agregar un if al final con la condición"
      ],
      "metadata": {
        "id": "aY4PtEYvqg-j"
      }
    },
    {
      "cell_type": "code",
      "source": [
        "numbers=[1,2,3,4]\n",
        "results =[n+1 for n in numbers if n < 5]\n",
        "results"
      ],
      "metadata": {
        "id": "dypobXSkqyoV"
      },
      "execution_count": null,
      "outputs": []
    },
    {
      "cell_type": "code",
      "source": [
        "results2=lambda numbers:results\n",
        "print(results2(numbers))"
      ],
      "metadata": {
        "id": "5aBuq-Ulk_8f"
      },
      "execution_count": null,
      "outputs": []
    },
    {
      "cell_type": "markdown",
      "source": [
        "#2.Jesús"
      ],
      "metadata": {
        "id": "3ql8oWq0rcTl"
      }
    },
    {
      "cell_type": "code",
      "source": [
        "n=int(input(\"Hasta que número quieres imprimir los pares e impares: \"))\n",
        "pares=[número for número in range(0,n+1) if número%2==0]\n",
        "print(pares)\n",
        "impares=[número for número in range (0,n+1) if número%2!=0]\n",
        "print(impares)"
      ],
      "metadata": {
        "id": "3Snu_vy-rfA7"
      },
      "execution_count": null,
      "outputs": []
    },
    {
      "cell_type": "code",
      "source": [
        "num=int(input(\"Hasta que número quieres imprimir los pares e impares: \"))\n",
        "def hola(n):\n",
        "  pares=[número for número in range(0,n+1) if número%2==0]\n",
        "  print(pares)\n",
        "  impares=[número for número in range (0,n+1) if número%2!=0]\n",
        "  print(impares)\n",
        "  hola(num)\n"
      ],
      "metadata": {
        "id": "Z0vcU_L_sLrA"
      },
      "execution_count": null,
      "outputs": []
    },
    {
      "cell_type": "code",
      "source": [
        "num=int(input(\"Hasta que número quieres imprimir los pares e impares: \"))\n",
        "mi_lista=[n for n in range(0,num+1)]\n",
        "impares=list(filter(lambda num:num%2==0,mi_lista))\n",
        "print(impares)\n",
        "pares=list(filter(lambda num:num%2!=0,mi_lista))\n",
        "print(pares)"
      ],
      "metadata": {
        "id": "L73lUjQvspbJ"
      },
      "execution_count": null,
      "outputs": []
    },
    {
      "cell_type": "markdown",
      "source": [
        "#3. Jhon"
      ],
      "metadata": {
        "id": "fMCAoSWwmUys"
      }
    },
    {
      "cell_type": "code",
      "source": [
        "#Tradicional\n",
        "def perfecto(número):\n",
        "  perf=0\n",
        "  for i in range (1,número):\n",
        "    if número %i==0:\n",
        "      perf+=i\n",
        "  if perf ==número:\n",
        "    print(\"es número perfecto\")\n",
        "    return True\n",
        "  else:\n",
        "    print(\"no es número perfecto\")\n",
        "número=6\n",
        "perfecto(número)\n"
      ],
      "metadata": {
        "colab": {
          "base_uri": "https://localhost:8080/"
        },
        "id": "Ql54iY_FmWzE",
        "outputId": "ddeaa096-b3b4-48e6-b401-3a6ac351bc12"
      },
      "execution_count": 67,
      "outputs": [
        {
          "output_type": "stream",
          "name": "stdout",
          "text": [
            "es número perfecto\n"
          ]
        },
        {
          "output_type": "execute_result",
          "data": {
            "text/plain": [
              "True"
            ]
          },
          "metadata": {},
          "execution_count": 67
        }
      ]
    },
    {
      "cell_type": "code",
      "source": [
        "def numeros():\n",
        "  a=int(input(\"Ingresa un número\"))\n",
        "  b=int(input(\"Ingresa un número\"))\n",
        "  c=int(input(\"Ingresa un número\"))\n",
        "  d=int(input(\"Ingresa un número\"))\n",
        "  perfect=[a,b,c,d]\n",
        "\n",
        "  perfect1=[elemento for elemento in perfect if perfect(elemento)==True]\n",
        "numeros()"
      ],
      "metadata": {
        "id": "eHsQEt2OtZMh"
      },
      "execution_count": null,
      "outputs": []
    },
    {
      "cell_type": "code",
      "source": [
        "lista=[2,3,6,4]\n",
        "#Lambda y map\n",
        "perfect2=list(map(lambda elemento:perfecto(elemento)==True,lista))\n",
        "perfect2"
      ],
      "metadata": {
        "id": "Hbe7-SUMn6t4"
      },
      "execution_count": null,
      "outputs": []
    }
  ]
}