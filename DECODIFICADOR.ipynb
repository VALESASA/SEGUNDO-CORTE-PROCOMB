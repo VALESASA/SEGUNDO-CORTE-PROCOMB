{
  "cells": [
    {
      "cell_type": "code",
      "execution_count": null,
      "metadata": {
        "colab": {
          "base_uri": "https://localhost:8080/"
        },
        "id": "5jrBGbf_-kns",
        "outputId": "dc58fb8a-9700-43ad-a4ec-cabe43edb2dc"
      },
      "outputs": [
        {
          "output_type": "stream",
          "name": "stdout",
          "text": [
            "CRITERIOS SIGUIENTES LOS SIGUIENDO (ALEATORIOS) DULCES RETORNARIA ÑROGRAMA EL TRIATO, ÑEIDDO HAN ÑERSONAS LAS SI\n"
          ]
        }
      ],
      "source": [
        "consonantes = \"BCDFGHJKLMNÑPQRSTVWXYZ\"\n",
        "vocales= \"AEIOU\"\n",
        "vocalest= \"ÁÉÍÓÚ\"\n",
        "mensaje = \"bqusoquar rufeuomsor kar rufeuomca (ikoisaquar) cekbor qosaqmiqui nqafqili ok squisa, noucca gim noqramir kir ru\"\n",
        "clavec= 1\n",
        "clavev= 2\n",
        "cifrado = \"\"\n",
        "\n",
        "for letra in mensaje.upper():\n",
        "  if letra in consonantes:\n",
        "    indice = consonantes.find(letra)\n",
        "    indice += clavec\n",
        "    if indice == 22 :\n",
        "      indice = 0\n",
        "    cifrado += consonantes[indice]\n",
        "  elif letra in vocales:\n",
        "    indice = vocales.find(letra)\n",
        "    indice -= clavev\n",
        "    cifrado += vocales[indice]\n",
        "  elif letra in vocalest:\n",
        "    indice = vocalest.find(letra)\n",
        "    indice -= clavev\n",
        "    cifrado += vocalest[indice]\n",
        "  else:\n",
        "    cifrado += letra\n",
        "print(cifrado)"
      ]
    },
    {
      "cell_type": "code",
      "source": [],
      "metadata": {
        "id": "egmlsXN_HLtV"
      },
      "execution_count": null,
      "outputs": []
    }
  ],
  "metadata": {
    "colab": {
      "provenance": []
    },
    "kernelspec": {
      "display_name": "Python 3",
      "name": "python3"
    },
    "language_info": {
      "name": "python"
    }
  },
  "nbformat": 4,
  "nbformat_minor": 0
}