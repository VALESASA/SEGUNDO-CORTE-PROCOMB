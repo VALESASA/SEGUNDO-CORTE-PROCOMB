{
  "nbformat": 4,
  "nbformat_minor": 0,
  "metadata": {
    "colab": {
      "provenance": []
    },
    "kernelspec": {
      "name": "python3",
      "display_name": "Python 3"
    },
    "language_info": {
      "name": "python"
    }
  },
  "cells": [
    {
      "cell_type": "markdown",
      "source": [
        "#2 clases, uno de objetos y otra de departamento y otra el carrito \n",
        "#3 departamentos cada departamento 5 productos"
      ],
      "metadata": {
        "id": "1MAHmeE5Q7MJ"
      }
    },
    {
      "cell_type": "code",
      "execution_count": 6,
      "metadata": {
        "id": "oiXjlSKaQtv9"
      },
      "outputs": [],
      "source": [
        "class objetos():\n",
        "\n",
        "  def __init__(self,precio,nombre,deprt):\n",
        "    self.precio=precio\n",
        "    self.nombre=nombre\n",
        "    self.deprt=deprt\n",
        "  \n",
        "  def __repr__(self):\n",
        "    return f\"El objeto es {self.nombre}, su precio es {self.precio} dolares y pertenece al departamento de {self.deprt}\""
      ]
    },
    {
      "cell_type": "code",
      "source": [
        "nombre=[\"cuchillo\",\"platos\",\"cuchara\",\"jabón\",\"vaso\"]\n",
        "precio=[12,50,15,28,35]\n",
        "deprt=[\"cocina\"]"
      ],
      "metadata": {
        "id": "LplGV0TY6kd9"
      },
      "execution_count": 7,
      "outputs": []
    },
    {
      "cell_type": "code",
      "source": [
        "lista=[]\n",
        "for i in range(5):\n",
        "  lista.append(objetos(precio[i],nombre[i],\"cocina\"))\n"
      ],
      "metadata": {
        "id": "Zc-MBu7w7kmb"
      },
      "execution_count": 8,
      "outputs": []
    },
    {
      "cell_type": "code",
      "source": [
        "lista"
      ],
      "metadata": {
        "colab": {
          "base_uri": "https://localhost:8080/"
        },
        "id": "8sbasCyQ8kDK",
        "outputId": "97defca3-dd9c-4018-91e3-75993eb858d6"
      },
      "execution_count": 9,
      "outputs": [
        {
          "output_type": "execute_result",
          "data": {
            "text/plain": [
              "[El objeto es cuchillo, su precio es 12 dolares y pertenece al departamento de cocina,\n",
              " El objeto es platos, su precio es 50 dolares y pertenece al departamento de cocina,\n",
              " El objeto es cuchara, su precio es 15 dolares y pertenece al departamento de cocina,\n",
              " El objeto es jabón, su precio es 28 dolares y pertenece al departamento de cocina,\n",
              " El objeto es vaso, su precio es 35 dolares y pertenece al departamento de cocina]"
            ]
          },
          "metadata": {},
          "execution_count": 9
        }
      ]
    },
    {
      "cell_type": "code",
      "source": [
        "nom=[\"Audífonos\",\"AuKing Mini proyector 2022\",\"Amazon Basics Cable HDMI de alta velocidad, 6 pies\",\"TCL 32 Class 3-Series HD\",\"Nintendo Switch – OLED Model w/ White Joy-Con\"]\n",
        "pre=[30,89.99,6.79,139.99,349]\n",
        "dep=[\"Electrónicos\"]"
      ],
      "metadata": {
        "id": "hPAExIY1fa6j"
      },
      "execution_count": 10,
      "outputs": []
    },
    {
      "cell_type": "code",
      "source": [
        "lista=[]\n",
        "for i in range(5):\n",
        "  lista.append(objetos(pre[i],nom[i],\"Electrónicos\"))"
      ],
      "metadata": {
        "id": "0erRDkY2fcjQ"
      },
      "execution_count": 11,
      "outputs": []
    },
    {
      "cell_type": "code",
      "source": [
        "lista"
      ],
      "metadata": {
        "colab": {
          "base_uri": "https://localhost:8080/"
        },
        "id": "r0_E5aVHfeA5",
        "outputId": "a78d71b1-d33c-4aa7-e4c8-d252d4d32db8"
      },
      "execution_count": 12,
      "outputs": [
        {
          "output_type": "execute_result",
          "data": {
            "text/plain": [
              "[El objeto es Audífonos, su precio es 30 dolares y pertenece al departamento de Electrónicos,\n",
              " El objeto es AuKing Mini proyector 2022, su precio es 89.99 dolares y pertenece al departamento de Electrónicos,\n",
              " El objeto es Amazon Basics Cable HDMI de alta velocidad, 6 pies, su precio es 6.79 dolares y pertenece al departamento de Electrónicos,\n",
              " El objeto es TCL 32 Class 3-Series HD, su precio es 139.99 dolares y pertenece al departamento de Electrónicos,\n",
              " El objeto es Nintendo Switch – OLED Model w/ White Joy-Con, su precio es 349 dolares y pertenece al departamento de Electrónicos]"
            ]
          },
          "metadata": {},
          "execution_count": 12
        }
      ]
    },
    {
      "cell_type": "code",
      "source": [
        "nome=[\"Sistema de rociadores por wifi Orbit\",\"Smart Plug de Amazon\",\"Mini enchufe inteligente\",\"Cerradura inteligente Wi-Fi\",\"Cerrojo de seguridad\"]\n",
        "pro=[97,70,7.99,190,300]\n",
        "depr=[\"Smart Home\"]"
      ],
      "metadata": {
        "id": "Gb--LHzHitlU"
      },
      "execution_count": 22,
      "outputs": []
    },
    {
      "cell_type": "code",
      "source": [
        "lista=[]\n",
        "for i in range(5):\n",
        "  lista.append(objetos(pro[i],nome[i],\"Smart Home\"))"
      ],
      "metadata": {
        "id": "SCaVmI02i8gB"
      },
      "execution_count": 23,
      "outputs": []
    },
    {
      "cell_type": "code",
      "source": [
        "lista"
      ],
      "metadata": {
        "colab": {
          "base_uri": "https://localhost:8080/"
        },
        "id": "b-NnIkUgi-CR",
        "outputId": "7ce16e38-0776-4aea-8ca8-8803803da626"
      },
      "execution_count": 24,
      "outputs": [
        {
          "output_type": "execute_result",
          "data": {
            "text/plain": [
              "[El objeto es Sistema de rociadores por wifi Orbit, su precio es 97 dolares y pertenece al departamento de Smart Home,\n",
              " El objeto es Smart Plug de Amazon, su precio es 70 dolares y pertenece al departamento de Smart Home,\n",
              " El objeto es Mini enchufe inteligente, su precio es 7.99 dolares y pertenece al departamento de Smart Home,\n",
              " El objeto es Cerradura inteligente Wi-Fi, su precio es 190 dolares y pertenece al departamento de Smart Home,\n",
              " El objeto es Cerrojo de seguridad, su precio es 300 dolares y pertenece al departamento de Smart Home]"
            ]
          },
          "metadata": {},
          "execution_count": 24
        }
      ]
    }
  ]
}