{
  "nbformat": 4,
  "nbformat_minor": 0,
  "metadata": {
    "colab": {
      "provenance": []
    },
    "kernelspec": {
      "name": "python3",
      "display_name": "Python 3"
    },
    "language_info": {
      "name": "python"
    }
  },
  "cells": [
    {
      "cell_type": "code",
      "execution_count": 5,
      "metadata": {
        "id": "HZ42TkOvg-SD"
      },
      "outputs": [],
      "source": [
        "class Humano:\n",
        "\n",
        "  def __init__(self, ojos, cabello, boca, orejas, nariz, brazos, piernas, RH, sexo, estatura, peso, dedos, manos, pies, nombre):\n",
        "    self.nombre=nombre\n",
        "    self.ojos=ojos\n",
        "    self.cabello=cabello\n",
        "    self.boca=boca\n",
        "    self.orejas=orejas\n",
        "    self.nariz=nariz\n",
        "    self.brazos=brazos\n",
        "    self.piernas=piernas\n",
        "    self.RH=RH\n",
        "    self.sexo=sexo\n",
        "    self.estatura=estatura\n",
        "    self.peso=peso\n",
        "    self.dedos=dedos\n",
        "    self.manos=manos\n",
        "    self.pies=pies\n",
        "\n",
        "  def movilizarse(self,vel):\n",
        "    if vel<0:\n",
        "      print({self.nombre},\"está retrocediendo\")\n",
        "      vel=-vel\n",
        "      return vel\n",
        "    else:\n",
        "      print({self.nombre},\"va pa'lante\")\n",
        "\n",
        "    if vel==0:\n",
        "      return +str(self.nombre)+\"Se encuentra en reposo\"\n",
        "    elif vel>0 and vel<=1:\n",
        "      return +str(self.nombre)+\"Se encuentra gateando\"\n",
        "    elif vel>1 and vel<=5:\n",
        "      return +str(self.nombre)+\"Se encuentra caminando\"\n",
        "    elif vel>5 and vel<=5.9:\n",
        "      return +str(self.nombre)+\"Se encuentra trotando\"\n",
        "    elif vel>5.9 and vel<=10:\n",
        "      return +str(self.nombre)+\"Se encuentra corriendo\"\n",
        "    elif vel>10 and vel<=700:\n",
        "      return +str(self.nombre)+\"Se encuentra volando\"\n",
        "    else:\n",
        "      return +str(self.nombre)+\"posiblemente no es humano\"\n",
        "\n",
        "    if vel<0:\n",
        "      print({self.nombre},\"está retrocediendo\")\n",
        "    else:\n",
        "      print({self.nombre},\"va pa'lante\")\n",
        "  \n",
        "  def trabajar(self,trabajo):\n",
        "    if trabajo==0:\n",
        "      print({self.nombre},\"esta desempleado\")\n",
        "    elif trabajo>0 and trabajo<=2:\n",
        "      return +str(self.nombre)+\"tiene un trabajo como part time\"\n",
        "    elif trabajo>2 and trabajo<=5:\n",
        "      return +str(self.nombre)+\"tiene un trabajo medio tiempo entre los 5 días de la semana\"\n",
        "    elif trabajo>5 and trabajo<=7:\n",
        "      return +str(self.nombre)+\"tiene un trabajo full time de domingo a domingo\"\n",
        "    elif trabajo>7 and trabajo<=10:\n",
        "      return +str(self.nombre)+\"tiene un trabajo como practicante\"\n",
        "    elif trabajo>10 and trabajo<12:\n",
        "      return +str(self.nombre)+\"\"\n",
        "      \n"
      ]
    },
    {
      "cell_type": "code",
      "source": [
        "class Sayayin:\n",
        "\n",
        "  def __init__(self, ojos, cabello, boca, orejas, nariz, brazos, piernas, RH, sexo, estatura, peso, dedos, manos, pies, nombre):\n",
        "    self.nombre=nombre\n",
        "    self.ojos=\"negros\"\n",
        "    self.cabello=cabello\n",
        "    self.boca=boca\n",
        "    self.orejas=orejas\n",
        "    self.nariz=nariz\n",
        "    self.brazos=brazos\n",
        "    self.piernas=piernas\n",
        "    self.RH=RH\n",
        "    self.sexo=sexo\n",
        "    self.estatura=estatura\n",
        "    self.peso=peso\n",
        "    self.dedos=dedos\n",
        "    self.manos=manos\n",
        "    self.pies=pies\n",
        "    self.cola_de_mono=True\n",
        "\n",
        "  def movilizarse(self,vel):\n",
        "    if vel<0:\n",
        "      print({self.nombre},\"está retrocediendo\")\n",
        "      vel=-vel\n",
        "      return vel\n",
        "    else:\n",
        "      print({self.nombre},\"va pa'lante\")\n",
        "\n",
        "    if vel==0:\n",
        "      return +str(self.nombre)+\"Se encuentra en reposo\"\n",
        "    elif vel>1 and vel<=5:\n",
        "      return +str(self.nombre)+\"Se encuentra caminando\"\n",
        "    elif vel>5 and vel<=5.9:\n",
        "      return +str(self.nombre)+\"Se encuentra trotando\"\n",
        "    elif vel>5.9 and vel<=10:\n",
        "      return +str(self.nombre)+\"Se encuentra corriendo\"\n",
        "    elif vel>10 and vel<=700:\n",
        "      return +str(self.nombre)+\"Se encuentra volando\"\n",
        "    else:\n",
        "      return +str(self.nombre)+\"posiblemente no es humano\"\n",
        "\n",
        "    if vel<0:\n",
        "      print({self.nombre},\"está retrocediendo\")\n",
        "    else:\n",
        "      print({self.nombre},\"va pa'lante\")\n",
        "  \n",
        "  def trabajar(self,trabajo):\n",
        "    if trabajo==0:\n",
        "      print({self.nombre},\"no es sayayin\")\n",
        "    elif trabajo>0 and trabajo<=2:\n",
        "      return +str(self.nombre)+\"tiene un trabajo como guerrero\"\n",
        "    elif trabajo>2 and trabajo<=5:\n",
        "      return +str(self.nombre)+\"tiene un trabajo mercenario\"\n",
        "    elif trabajo>5 and trabajo<=7:\n",
        "      return +str(self.nombre)+\"tiene un trabajo granjero\"\n",
        "    elif trabajo>7 and trabajo<=10:\n",
        "      return +str(self.nombre)+\"tiene un trabajo rey\"\n",
        "    elif trabajo>10 and trabajo<12:\n",
        "      return +str(self.nombre)+\"tiene trabajo como príncipe\"\n",
        "\n",
        "  def luna(self,luna):\n",
        "    if luna and self.cola_de_mono:\n",
        "      print(self.nombre,\"se va a transformar en MONO GIGANTE\")\n",
        "    elif luna and self.cola_de_mono==False:\n",
        "      print(self.nombre,\"no se va a transformar en MONO GIGANTE\")\n",
        "    else:\n",
        "      print(self.nombre, \"no se va a transformar en MONO GIGANTE\")\n",
        "\n",
        "\n",
        "\n"
      ],
      "metadata": {
        "id": "XskM5dzbsUq9"
      },
      "execution_count": 8,
      "outputs": []
    },
    {
      "cell_type": "code",
      "source": [
        "class Hibridos(Sayayin,Humano):\n",
        "  pass"
      ],
      "metadata": {
        "id": "NJ_rCiF9vACE"
      },
      "execution_count": 9,
      "outputs": []
    },
    {
      "cell_type": "code",
      "source": [
        "gohan=Hibridos(2,2,1,2,1,2,2,\"o+\",\"masculino\",12,34,10,2,2,\"gohan\")"
      ],
      "metadata": {
        "id": "GerUdzm7vZfy"
      },
      "execution_count": 11,
      "outputs": []
    },
    {
      "cell_type": "code",
      "source": [
        "gohan.luna(True)"
      ],
      "metadata": {
        "colab": {
          "base_uri": "https://localhost:8080/"
        },
        "id": "T9cLdqNGwSn5",
        "outputId": "e8539a3d-2ff3-4a98-ad5b-76a66b07d84b"
      },
      "execution_count": 12,
      "outputs": [
        {
          "output_type": "stream",
          "name": "stdout",
          "text": [
            "gohan se va a transformar en MONO GIGANTE\n"
          ]
        }
      ]
    },
    {
      "cell_type": "code",
      "source": [],
      "metadata": {
        "id": "hbbcSKN4wSkJ"
      },
      "execution_count": null,
      "outputs": []
    }
  ]
}