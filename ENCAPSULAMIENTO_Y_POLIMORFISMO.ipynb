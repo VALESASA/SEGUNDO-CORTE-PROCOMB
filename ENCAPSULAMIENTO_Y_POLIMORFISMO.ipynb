{
  "nbformat": 4,
  "nbformat_minor": 0,
  "metadata": {
    "colab": {
      "provenance": []
    },
    "kernelspec": {
      "name": "python3",
      "display_name": "Python 3"
    },
    "language_info": {
      "name": "python"
    }
  },
  "cells": [
    {
      "cell_type": "code",
      "source": [
        "class Saiayin():\n",
        "  \n",
        "  def __init__(self,nombre,ccabello,cojos,cola_mono,estatura):\n",
        "   self.nombre=nombre\n",
        "   self._ccabello=\"negro\"\n",
        "   self.cojos=\"negro\"\n",
        "   self.__cola_mono=True\n",
        "   self.estatura=estatura\n",
        "\n",
        "  def cambio_color(self,putisteria):\n",
        "    if putisteria>=4000 and putisteria<100000:\n",
        "      self.ccabello=\"rubio\"\n",
        "      self.cojos=\"aguamarina\"\n",
        "    elif putisteria>=100000 and putisteria<200000:\n",
        "      self.ccabello=\"rojo\"\n",
        "      self.cojos=\"rosita\"\n",
        "    elif putisteria>=200000 and putisteria<500000:\n",
        "      self.ccabello=\"azul\"\n",
        "      self.cojos=\"azul azul\"\n",
        "    elif putisteria>=500000 and putisteria<1000000:\n",
        "       self.ccabello=\"cenizo\"\n",
        "       self.cojos=\"plateado\"\n",
        "    else:\n",
        "      self.ccabello=\"negro\"\n",
        "      self.cojos=\"negro\"\n",
        "    \n",
        "  def trabajo(self,t):\n",
        "    if t==1: print(self.nombre, \" es guerrero\")\n",
        "    elif t==2: print(f\"{self.nombre} es liendra de freezer\")\n",
        "    elif t==3: print(f\"{self.nombre} es mercenario\")\n",
        "    elif t==4: print(f\"{self.nombre} es de la realeza\")\n",
        "    else: print(f\"{self.nombre} es NiNi xD\")\n",
        "\n"
      ],
      "metadata": {
        "id": "-fJuCEU3T1zi"
      },
      "execution_count": 28,
      "outputs": []
    },
    {
      "cell_type": "code",
      "source": [
        "class Humano():\n",
        "  \n",
        "  def __init__(self,nombre,ccabello,cojos,estatura):\n",
        "   self.nombre=nombre\n",
        "   self._ccabello=ccabello\n",
        "   self.cojos=cojos\n",
        "   self.estatura=estatura\n",
        "\n",
        "  def cambio_color(self,tinte):\n",
        "    if tinte==1:\n",
        "      self.ccabello=\"rubio\"\n",
        "      self.cojos=\"aguamarina\"\n",
        "    elif tinte==2:\n",
        "      self.ccabello=\"rojo\"\n",
        "      self.cojos=\"rosita\"\n",
        "    elif tinte==3:\n",
        "      self.ccabello=\"azul\"\n",
        "      self.cojos=\"azul azul\"\n",
        "    elif tinte==4:\n",
        "       self.ccabello=\"cenizo\"\n",
        "       self.cojos=\"plateado\"\n",
        "    else:\n",
        "      self.ccabello=\"ocre\"\n",
        "      self.cojos=\"miel\"\n",
        "    \n",
        "  def trabajo(self,t):\n",
        "    if t==1: print(self.nombre, \" es periodista\")\n",
        "    elif t==2: print(f\"{self.nombre} es político\")\n",
        "    elif t==3: print(f\"{self.nombre} es patrulla roja\")\n",
        "    elif t==4: print(f\"{self.nombre} trabaja en capsule corps\")\n",
        "    elif t==5: print(f\"{self.nombre} es policía \")\n",
        "    elif t==6: print(f\"{self.nombre} es granjero\")\n",
        "    else: print(f\"{self.nombre} es NiNi xD\")"
      ],
      "metadata": {
        "id": "9q6rt3k-aU5Y"
      },
      "execution_count": 29,
      "outputs": []
    },
    {
      "cell_type": "code",
      "source": [
        "class Hibrido(Saiayin,Humano):\n",
        "  pass"
      ],
      "metadata": {
        "id": "2xcLcYE3bUiB"
      },
      "execution_count": 30,
      "outputs": []
    },
    {
      "cell_type": "code",
      "source": [
        "saya1=Saiayin(\"Jhonsito\",\"aguamarina\",\"arcoiris con brishitos\",False,180)"
      ],
      "metadata": {
        "id": "4EntHxG4UvZK"
      },
      "execution_count": 32,
      "outputs": []
    },
    {
      "cell_type": "code",
      "source": [
        "saya1.cambio_color=(100000)"
      ],
      "metadata": {
        "id": "YJBUZ9wfcIIP"
      },
      "execution_count": 33,
      "outputs": []
    },
    {
      "cell_type": "code",
      "source": [
        "human=Humano(\"Carlitos\",\"negro\",\"marron\",170)"
      ],
      "metadata": {
        "id": "2jHRXx_AblUP"
      },
      "execution_count": 34,
      "outputs": []
    },
    {
      "cell_type": "code",
      "source": [
        "saya1.__dict__"
      ],
      "metadata": {
        "colab": {
          "base_uri": "https://localhost:8080/"
        },
        "id": "qsThZNAUVQzt",
        "outputId": "430c8791-a898-49b5-b270-47a008ca872d"
      },
      "execution_count": 35,
      "outputs": [
        {
          "output_type": "execute_result",
          "data": {
            "text/plain": [
              "{'nombre': 'Jhonsito',\n",
              " '_ccabello': 'negro',\n",
              " 'cojos': 'negro',\n",
              " '_Saiayin__cola_mono': True,\n",
              " 'estatura': 180,\n",
              " 'cambio_color': 100000}"
            ]
          },
          "metadata": {},
          "execution_count": 35
        }
      ]
    },
    {
      "cell_type": "code",
      "source": [
        "persona=Hibrido(\"Gohan\",185)\n",
        "persona.__dict__"
      ],
      "metadata": {
        "id": "impmxV_4WKSc"
      },
      "execution_count": null,
      "outputs": []
    },
    {
      "cell_type": "code",
      "source": [
        "class Hibrido(Saiayin,Humano):\n",
        "  def __init__(self,ccabello,cojos,nombre,estatura):\n",
        "    super().__init__(nombre,estatura)\n",
        "    self.ccabello=ccabello\n",
        "    self.cojos=cojos\n",
        "  def cambio_color(self,a):\n",
        "    super().cambio_color(a)\n",
        "    if a>=1000000000 and a<1000000000000:\n",
        "      self.ccabello=\"blanco\"\n",
        "      self.cojos=\"rojos\""
      ],
      "metadata": {
        "id": "x9jaqlosdwTn"
      },
      "execution_count": 39,
      "outputs": []
    }
  ]
}