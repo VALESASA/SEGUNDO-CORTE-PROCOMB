{
  "cells": [
    {
      "cell_type": "markdown",
      "metadata": {
        "id": "v5JhyupywfkL"
      },
      "source": [
        "#7. Hallar el IMC de dichos usuarios MIO Valentina\n"
      ]
    },
    {
      "cell_type": "code",
      "execution_count": null,
      "metadata": {
        "colab": {
          "base_uri": "https://localhost:8080/"
        },
        "id": "-xVH0Bqpk0YT",
        "outputId": "9d1c8483-e5c5-444e-8fd6-f3179ef18b02"
      },
      "outputs": [
        {
          "name": "stdout",
          "output_type": "stream",
          "text": [
            "¿Cuántos usuarios hay? 2\n",
            "¿Cuál es tu nombre?  ju\n",
            "Ingresa el peso  123\n",
            "Ingresa la altura  123\n",
            "¿Cuál es tu nombre?  jji\n",
            "Ingresa el peso  67\n",
            "Ingresa la altura  90\n"
          ]
        }
      ],
      "source": [
        "#Tradicional\n",
        "def listaIMC(usuarios):\n",
        "  sis = []\n",
        "  imc=[]\n",
        "  b=0\n",
        "  a2=0\n",
        "  for n in range (usuarios):\n",
        "    w=input(\"¿Cuál es tu nombre?  \") \n",
        "    sis.append((w,b/a2**2))\n",
        "    imc.append(b/a2**2)\n",
        "  return sis,imc\n",
        "\n",
        "\n",
        "user=int(input(\"¿Cuántos usuarios hay? \"))\n",
        "\n",
        "sis,imc=listaIMC(user)\n",
        "\n"
      ]
    },
    {
      "cell_type": "code",
      "execution_count": null,
      "metadata": {
        "colab": {
          "base_uri": "https://localhost:8080/"
        },
        "id": "zjHbu-3Bf0pd",
        "outputId": "2a5ea294-daaf-4747-8cd0-23c7bdea5d9f"
      },
      "outputs": [
        {
          "data": {
            "text/plain": [
              "[0.008130081300813009, 0.008271604938271605]"
            ]
          },
          "execution_count": 29,
          "metadata": {},
          "output_type": "execute_result"
        }
      ],
      "source": [
        "imc"
      ]
    },
    {
      "cell_type": "code",
      "execution_count": null,
      "metadata": {
        "colab": {
          "base_uri": "https://localhost:8080/"
        },
        "id": "kaHz4zL2qcKb",
        "outputId": "c63376ad-cc33-4d40-aa30-edb20a04fcc3"
      },
      "outputs": [
        {
          "name": "stdout",
          "output_type": "stream",
          "text": [
            "¿Cuál es tu nombre?  fbv\n",
            "Ingresa el peso  67\n",
            "Ingresa la altura  67\n",
            "¿Cuál es tu nombre?  hbn\n",
            "Ingresa el peso  45\n",
            "Ingresa la altura  67\n",
            "[]\n"
          ]
        }
      ],
      "source": [
        "#Comprensión\n",
        "sis=listaIMC(user)\n",
        "sis2=[n for n in imc if n>= 18.5]\n",
        "print(sis2)"
      ]
    },
    {
      "cell_type": "code",
      "execution_count": null,
      "metadata": {
        "colab": {
          "base_uri": "https://localhost:8080/"
        },
        "id": "33LXmlpUc3cw",
        "outputId": "6abb9bf1-acea-4253-e9cc-9cc7305876db"
      },
      "outputs": [
        {
          "data": {
            "text/plain": [
              "([('fbv', 0.014925373134328358), ('hbn', 0.010024504343951883)],\n",
              " [0.014925373134328358, 0.010024504343951883])"
            ]
          },
          "execution_count": 31,
          "metadata": {},
          "output_type": "execute_result"
        }
      ],
      "source": [
        "sis"
      ]
    },
    {
      "cell_type": "code",
      "execution_count": null,
      "metadata": {
        "colab": {
          "base_uri": "https://localhost:8080/"
        },
        "id": "kXdKzWLPdIuH",
        "outputId": "b96531ae-2a31-4b2e-f25a-8a84629236eb"
      },
      "outputs": [
        {
          "data": {
            "text/plain": [
              "0.010024504343951883"
            ]
          },
          "execution_count": 32,
          "metadata": {},
          "output_type": "execute_result"
        }
      ],
      "source": [
        "sis[1][1]"
      ]
    },
    {
      "cell_type": "code",
      "execution_count": null,
      "metadata": {
        "colab": {
          "base_uri": "https://localhost:8080/"
        },
        "id": "k7spxrJ4PAAb",
        "outputId": "5df5dda2-c039-4766-b688-0f563e1e2749"
      },
      "outputs": [
        {
          "data": {
            "text/plain": [
              "['peso insuficiente', 'peso insuficiente']"
            ]
          },
          "execution_count": 33,
          "metadata": {},
          "output_type": "execute_result"
        }
      ],
      "source": [
        "#Lambda\n",
        "#IMC2=[28,30,40,35,100]\n",
        "#sis=listaIMC(user)\n",
        "sis3=list(map(lambda x: \"peso insuficiente\" if x<18.5 else \"peso normal\" if (x>=18.5 and x<24.9) else \"sobrepeso\" if (x>=24.9 and x<30) else \"obesidad\",imc))\n",
        "sis3"
      ]
    },
    {
      "cell_type": "markdown",
      "metadata": {
        "id": "aaUIomsvktag"
      },
      "source": [
        "#EJERCICIOS COMPAÑEROS"
      ]
    },
    {
      "cell_type": "markdown",
      "metadata": {
        "id": "L0M9-vBuk6dw"
      },
      "source": [
        "#1. Samuelle"
      ]
    },
    {
      "cell_type": "markdown",
      "metadata": {
        "id": "Ok5-5ujfo2EZ"
      },
      "source": [
        "##La lista por comprensión es una construcción sintáctica disponible en Python con la que se pueden crear lista a partir de otros elementos iterables. Siendo una de las  contracciones mas elegantes del lenguaje. A continuación, se mostrará la sintaxis básica para trabajar  con las listas por comprensión"
      ]
    },
    {
      "cell_type": "code",
      "execution_count": null,
      "metadata": {
        "id": "LVVomvQSpcLg"
      },
      "outputs": [],
      "source": [
        "#Los tipos de datos mutables son todos aquellos a los que es posible cambia, modificar o actuar\n",
        "#Los objetos mutables más comunes son las listas, diccionarios y conjuntos que sirven para guiar\n",
        "\n",
        "#SINTAXIS DE LISTAS POR COMPRENSIÓN\n",
        "\n",
        "nueva_lista = [expresion bucle_for condiciones]\n",
        "\n",
        "#Entre corchetes se escribe una expresión seguida de un bucle for sobre el que se itera, para"
      ]
    },
    {
      "cell_type": "code",
      "execution_count": null,
      "metadata": {
        "id": "8N_NFssxqNVe"
      },
      "outputs": [],
      "source": [
        "#EJEMPLO\n",
        "\n",
        "numbers = [1,2,3,4]\n",
        "results = []\n",
        "for n in numbers:\n",
        "    results.append(n+1)\n",
        "    "
      ]
    },
    {
      "cell_type": "markdown",
      "metadata": {
        "id": "aY4PtEYvqg-j"
      },
      "source": [
        "#CONDICIONES EN LAS LISTAS POR COMPRENSIÓN\n",
        "##Es posible añadir condiciones a las listas por comprensión en Python. Para lo que se tiene que agregar un if al final con la condición"
      ]
    },
    {
      "cell_type": "code",
      "execution_count": null,
      "metadata": {
        "id": "dypobXSkqyoV"
      },
      "outputs": [],
      "source": [
        "numbers=[1,2,3,4]\n",
        "results =[n+1 for n in numbers if n < 5]\n",
        "results"
      ]
    },
    {
      "cell_type": "code",
      "execution_count": null,
      "metadata": {
        "id": "5aBuq-Ulk_8f"
      },
      "outputs": [],
      "source": [
        "results2=lambda numbers:results\n",
        "print(results2(numbers))"
      ]
    },
    {
      "cell_type": "markdown",
      "metadata": {
        "id": "3ql8oWq0rcTl"
      },
      "source": [
        "#2.Jesús"
      ]
    },
    {
      "cell_type": "code",
      "execution_count": null,
      "metadata": {
        "id": "3Snu_vy-rfA7"
      },
      "outputs": [],
      "source": [
        "n=int(input(\"Hasta que número quieres imprimir los pares e impares: \"))\n",
        "pares=[número for número in range(0,n+1) if número%2==0]\n",
        "print(pares)\n",
        "impares=[número for número in range (0,n+1) if número%2!=0]\n",
        "print(impares)"
      ]
    },
    {
      "cell_type": "code",
      "execution_count": null,
      "metadata": {
        "id": "Z0vcU_L_sLrA"
      },
      "outputs": [],
      "source": [
        "num=int(input(\"Hasta que número quieres imprimir los pares e impares: \"))\n",
        "def hola(n):\n",
        "  pares=[número for número in range(0,n+1) if número%2==0]\n",
        "  print(pares)\n",
        "  impares=[número for número in range (0,n+1) if número%2!=0]\n",
        "  print(impares)\n",
        "  hola(num)\n"
      ]
    },
    {
      "cell_type": "code",
      "execution_count": null,
      "metadata": {
        "id": "L73lUjQvspbJ"
      },
      "outputs": [],
      "source": [
        "num=int(input(\"Hasta que número quieres imprimir los pares e impares: \"))\n",
        "mi_lista=[n for n in range(0,num+1)]\n",
        "impares=list(filter(lambda num:num%2==0,mi_lista))\n",
        "print(impares)\n",
        "pares=list(filter(lambda num:num%2!=0,mi_lista))\n",
        "print(pares)"
      ]
    },
    {
      "cell_type": "markdown",
      "metadata": {
        "id": "fMCAoSWwmUys"
      },
      "source": [
        "#3. Jhon"
      ]
    },
    {
      "cell_type": "code",
      "execution_count": null,
      "metadata": {
        "colab": {
          "base_uri": "https://localhost:8080/"
        },
        "id": "Ql54iY_FmWzE",
        "outputId": "ddeaa096-b3b4-48e6-b401-3a6ac351bc12"
      },
      "outputs": [
        {
          "name": "stdout",
          "output_type": "stream",
          "text": [
            "es número perfecto\n"
          ]
        },
        {
          "data": {
            "text/plain": [
              "True"
            ]
          },
          "execution_count": 67,
          "metadata": {},
          "output_type": "execute_result"
        }
      ],
      "source": [
        "#Tradicional\n",
        "def perfecto(número):\n",
        "  perf=0\n",
        "  for i in range (1,número):\n",
        "    if número %i==0:\n",
        "      perf+=i\n",
        "  if perf ==número:\n",
        "    print(\"es número perfecto\")\n",
        "    return True\n",
        "  else:\n",
        "    print(\"no es número perfecto\")\n",
        "número=6\n",
        "perfecto(número)\n"
      ]
    },
    {
      "cell_type": "code",
      "execution_count": null,
      "metadata": {
        "id": "eHsQEt2OtZMh"
      },
      "outputs": [],
      "source": [
        "def numeros():\n",
        "  a=int(input(\"Ingresa un número\"))\n",
        "  b=int(input(\"Ingresa un número\"))\n",
        "  c=int(input(\"Ingresa un número\"))\n",
        "  d=int(input(\"Ingresa un número\"))\n",
        "  perfect=[a,b,c,d]\n",
        "\n",
        "  perfect1=[elemento for elemento in perfect if perfect(elemento)==True]\n",
        "numeros()"
      ]
    },
    {
      "cell_type": "code",
      "execution_count": null,
      "metadata": {
        "id": "Hbe7-SUMn6t4"
      },
      "outputs": [],
      "source": [
        "lista=[2,3,6,4]\n",
        "#Lambda y map\n",
        "perfect2=list(map(lambda elemento:perfecto(elemento)==True,lista))\n",
        "perfect2"
      ]
    },
    {
      "cell_type": "markdown",
      "metadata": {
        "id": "dQPz_ZNbneIr"
      },
      "source": [
        "#4. Juandivox"
      ]
    },
    {
      "cell_type": "code",
      "execution_count": null,
      "metadata": {
        "colab": {
          "base_uri": "https://localhost:8080/"
        },
        "id": "seDU-cXInjlS",
        "outputId": "025513db-d437-4b56-c95f-638b5065f310"
      },
      "outputs": [
        {
          "name": "stdout",
          "output_type": "stream",
          "text": [
            "[1513, 1894]\n"
          ]
        }
      ],
      "source": [
        "#Método tradicional\n",
        "numero1= [random.randint(0,2000) for x in range(100)]\n",
        "numero2= [random.randint(0,2000) for x in range(100)]\n",
        "comun=[]\n",
        "for a in numero1:\n",
        "  for b in numero2:\n",
        "    if a == b:\n",
        "      comun.append(a)\n",
        "print(comun)\n"
      ]
    },
    {
      "cell_type": "code",
      "execution_count": null,
      "metadata": {
        "colab": {
          "base_uri": "https://localhost:8080/"
        },
        "id": "E8mR4QF-o38i",
        "outputId": "612e7668-95c5-4288-fbc6-afc0e0a42f00"
      },
      "outputs": [
        {
          "name": "stdout",
          "output_type": "stream",
          "text": [
            "[427, 319, 762, 1970, 225, 1612, 1243, 1154]\n"
          ]
        }
      ],
      "source": [
        "#Método comprensión\n",
        "import random\n",
        "numero1= [random.randint(0,2000) for x in range(100)]\n",
        "numero2= [random.randint(0,2000) for x in range(100)]\n",
        "comun=[x for x in numero1 for y in numero2 if x==y]\n",
        "print(comun)"
      ]
    },
    {
      "cell_type": "code",
      "execution_count": null,
      "metadata": {
        "colab": {
          "base_uri": "https://localhost:8080/"
        },
        "id": "zzt5w8BMpVsX",
        "outputId": "ab6c067d-ad7a-469b-bfd1-48d0c51ada44"
      },
      "outputs": [
        {
          "name": "stdout",
          "output_type": "stream",
          "text": [
            "[1603, 1001, 866, 901, 1465]\n"
          ]
        }
      ],
      "source": [
        "#Método Lambda\n",
        "import random\n",
        "numero1= [random.randint(0,2000) for x in range(100)]\n",
        "numero2= [random.randint(0,2000) for x in range(100)]\n",
        "comun=[]\n",
        "comun=list(filter(lambda num:num in numero1,numero2))\n",
        "print(comun)"
      ]
    },
    {
      "cell_type": "markdown",
      "metadata": {
        "id": "I-tFemnLrGIu"
      },
      "source": [
        "#5. Daniel"
      ]
    },
    {
      "cell_type": "code",
      "execution_count": null,
      "metadata": {
        "colab": {
          "base_uri": "https://localhost:8080/"
        },
        "id": "IYXWJwW7rI62",
        "outputId": "dce0a4d5-1f50-4362-a20a-165872d219fe"
      },
      "outputs": [
        {
          "name": "stdout",
          "output_type": "stream",
          "text": [
            "25\n"
          ]
        }
      ],
      "source": [
        "#Tradicional\n",
        "def square1(num):\n",
        "  return num **2\n",
        "print(square1(5))"
      ]
    },
    {
      "cell_type": "code",
      "execution_count": null,
      "metadata": {
        "colab": {
          "base_uri": "https://localhost:8080/"
        },
        "id": "wrvb4wQ3rlTk",
        "outputId": "7dffd3e8-2504-496f-c521-86105447a85a"
      },
      "outputs": [
        {
          "name": "stdout",
          "output_type": "stream",
          "text": [
            "[4, 16, 36, 64]\n"
          ]
        }
      ],
      "source": [
        "#Comprensión\n",
        "L = [2,4,6,8]\n",
        "L2 = [n**2 for n in L]\n",
        "print(L2)"
      ]
    },
    {
      "cell_type": "code",
      "execution_count": null,
      "metadata": {
        "colab": {
          "base_uri": "https://localhost:8080/"
        },
        "id": "d9_EGX_SrxkT",
        "outputId": "6bb86e2e-e0d0-49ae-8db1-bc20c632885c"
      },
      "outputs": [
        {
          "data": {
            "text/plain": [
              "9"
            ]
          },
          "execution_count": 22,
          "metadata": {},
          "output_type": "execute_result"
        }
      ],
      "source": [
        "#Lambda\n",
        "lambda_func= lambda x:x**2\n",
        "lambda_func(3)"
      ]
    },
    {
      "cell_type": "markdown",
      "metadata": {
        "id": "ZXla5TWFsBac"
      },
      "source": [
        "#6. Angie"
      ]
    },
    {
      "cell_type": "code",
      "execution_count": null,
      "metadata": {
        "id": "v8L1JKvesDRx"
      },
      "outputs": [],
      "source": [
        "nom1 = [\"Samuelle\" ,\"Angie\" ,\"Valentina\" ,\"Alejandro\" ,\"Jonsito\"]\n",
        "nom2 = [\"Samuelle\" ,\"Andrea\" ,\"Sandra\" ,\"Anderson\" ,\"Jonsito\"]\n"
      ]
    },
    {
      "cell_type": "code",
      "execution_count": null,
      "metadata": {
        "colab": {
          "base_uri": "https://localhost:8080/"
        },
        "id": "TI31vOK8t9J7",
        "outputId": "c88686c0-a6b6-40ca-88cf-1f048e32a421"
      },
      "outputs": [
        {
          "data": {
            "text/plain": [
              "{'Jonsito', 'Samuelle'}"
            ]
          },
          "execution_count": 36,
          "metadata": {},
          "output_type": "execute_result"
        }
      ],
      "source": [
        "#Comprensión\n",
        "common={a for a in nom1 for b in nom2 if a == b}\n",
        "common"
      ]
    },
    {
      "cell_type": "code",
      "execution_count": null,
      "metadata": {
        "colab": {
          "base_uri": "https://localhost:8080/"
        },
        "id": "S19IP3WOuT3y",
        "outputId": "7a033c29-95c6-48dd-c359-51998e4eb79b"
      },
      "outputs": [
        {
          "name": "stdout",
          "output_type": "stream",
          "text": [
            "{'Jonsito', 'Samuelle'}\n"
          ]
        }
      ],
      "source": [
        "#Lambda\n",
        "common1=lambda nom1,nom2:common\n",
        "print(common1(nom1,nom2))"
      ]
    },
    {
      "cell_type": "code",
      "execution_count": null,
      "metadata": {
        "id": "jPfClwW2ug4i"
      },
      "outputs": [],
      "source": [
        "#Tradicional\n",
        "def common(nom1,nom2):\n",
        "  return nom1,nom2"
      ]
    },
    {
      "cell_type": "code",
      "execution_count": null,
      "metadata": {
        "colab": {
          "base_uri": "https://localhost:8080/"
        },
        "id": "ZlcHdV4Supo5",
        "outputId": "7247ce39-0584-41da-829e-6d81c179b123"
      },
      "outputs": [
        {
          "data": {
            "text/plain": [
              "(['Samuelle', 'Angie', 'Valentina', 'Alejandro', 'Jonsito'],\n",
              " ['Samuelle', 'Andrea', 'Sandra', 'Anderson', 'Jonsito'])"
            ]
          },
          "execution_count": 39,
          "metadata": {},
          "output_type": "execute_result"
        }
      ],
      "source": [
        "nom1,nom2"
      ]
    },
    {
      "cell_type": "markdown",
      "metadata": {
        "id": "oDVo85qeur-Z"
      },
      "source": [
        "#8. Luis Miguel"
      ]
    },
    {
      "cell_type": "code",
      "execution_count": null,
      "metadata": {
        "id": "xG215o02y0Pr"
      },
      "outputs": [],
      "source": [
        "#Tradicional\n",
        "print(\"ingrese su código \")\n",
        "caracter=input()\n",
        "if len(caracter) ==8:\n",
        "  if caracter[0]== \"u\":\n",
        "    print(\"Eres estudiante Unab\")\n",
        "  elif(caracter.startswhith(\"a000\")):\n",
        "    print(\"Eres estudiante de los andes\")\n",
        "  else:\n",
        "    if(int(caracter)>=1950):\n",
        "      print(\"Eres estudiante UIS\")\n",
        "else:\n",
        "  print(\"No corresponde a ninguna universidad, revisa tu código\")"
      ]
    },
    {
      "cell_type": "code",
      "execution_count": null,
      "metadata": {
        "colab": {
          "base_uri": "https://localhost:8080/"
        },
        "id": "ngRiZNSL1ZJA",
        "outputId": "81addd11-cf90-421b-a531-8a53ae0f9657"
      },
      "outputs": [
        {
          "name": "stdout",
          "output_type": "stream",
          "text": [
            "[]\n"
          ]
        }
      ],
      "source": [
        "#Comprensión\n",
        "universidades=[\"unab\",\"uis\",\"andes\"]\n",
        "codigo=[\"U0123456\",\"198562\",\"a0005645\"]\n",
        "\n",
        "u=[cod for cod in codigo if cod[0]==\"u\" and len(cod)==8]\n",
        "print(u)"
      ]
    },
    {
      "cell_type": "code",
      "execution_count": null,
      "metadata": {
        "colab": {
          "base_uri": "https://localhost:8080/"
        },
        "id": "qPrbLAHL18Iw",
        "outputId": "edec9c10-6236-4a62-e3d8-49e9af3c17c7"
      },
      "outputs": [
        {
          "name": "stdout",
          "output_type": "stream",
          "text": [
            "['unab', None, None]\n"
          ]
        }
      ],
      "source": [
        "#Lambda\n",
        "y=list(map(lambda x:\"unab\" if (x[0]==\"U\" or x[0]==\"u\")else None, codigo))\n",
        "print(y)"
      ]
    },
    {
      "cell_type": "markdown",
      "metadata": {
        "id": "CW9xiFv32rXq"
      },
      "source": [
        "#9. Christian"
      ]
    },
    {
      "cell_type": "code",
      "execution_count": null,
      "metadata": {
        "id": "0Us2NUKS2uXK"
      },
      "outputs": [],
      "source": [
        "#Tradicional\n",
        "def funcion(lista, numDigitos, Universidad, clasCodigo):\n",
        "  clasificacion=[a for a in lista if a.startswhith(clasCodigo) and len(a)==numDigitos]\n",
        "  print(f\"Hay {len(clasificacion)} estudiante(s) de {Universidad} y sus codigo(s) son {clasificacion}\")\n",
        "\n",
        "lista=[]\n",
        "x=0\n",
        "while x==0:\n",
        "  entrada = input(\"Ingresa un código\")\n",
        "  lista.append(entrada)\n",
        "  a=int(input(\"¿Deseas ingresa otro?, Ingresa 0 si lo deseas, sino ingresa 1\"))\n",
        "  if (a==1):\n",
        "    x=x+1\n",
        "\n",
        "funcion(lista,9,\"la Unab\",\"U00\")\n",
        "funcion(lista,9,\"los Andes\",\"A000\")\n"
      ]
    },
    {
      "cell_type": "code",
      "execution_count": null,
      "metadata": {
        "id": "A60yqk5U4qbG",
        "colab": {
          "base_uri": "https://localhost:8080/"
        },
        "outputId": "dfdbd2a1-94d2-409b-88a3-00a19da0d90f"
      },
      "outputs": [
        {
          "name": "stdout",
          "output_type": "stream",
          "text": [
            "Ingresa un código7483\n"
          ]
        }
      ],
      "source": [
        "#Lambda\n",
        "lista=[]\n",
        "x=0\n",
        "while x==0:\n",
        "  entrada = input(\"Ingresa un código\")\n",
        "  lista.append(entrada)\n",
        "  a=int(input(\"¿Deseas ingresa otro?, Ingresa 0 si lo deseas, sino ingresa 1\"))\n",
        "  if (a==1):\n",
        "    x=x+1\n",
        "lista1=[\"u00013246\",\"a001234643\",\"U00156837\"]\n",
        "clasificacion=list(map(lambda a:\"Unab\" if a.startswith(\"U00\") or a.startswith or a.startswith(\"u00\") else \"Los Andes\" if a.startswith(\"A000\") or a.startswith(\"a000\") else None, lista))\n",
        "clasificacion\n",
        "                       "
      ]
    },
    {
      "cell_type": "code",
      "source": [
        "lista1=[\"u00013246\" ,\"a001234643\" , \"U00156837\"]\n",
        "clasificacion = list(map(lambda a:print((f\"Hay {len(clasificacion)} estudiante(s) de la Unab\") if a.starswith(\"U00\") else print(f\"Hay {len(clasificacion)}\"))"
      ],
      "metadata": {
        "id": "6HDv-dY9e6Ru"
      },
      "execution_count": null,
      "outputs": []
    },
    {
      "cell_type": "code",
      "source": [
        "#Comprensión\n",
        "lista=[]\n",
        "x=0\n",
        "while x==0:\n",
        "  entrada = input(\"Ingresa un código\")\n",
        "  lista.append(entrada)\n",
        "  a=int(input(\"¿Deseas ingresa otro?, Ingresa 0 si lo deseas, sino ingresa 1\"))\n",
        "  if (a==1):\n",
        "    x=x+1\n",
        "\n",
        "clasificacion = [a for a in lista if a.startswith(\"U00\")and len(a)==9]\n",
        "print(f\"Hay {len(clasificacion)} estudiante(s) de la Unab y sus código(s) son {clasificacion}\")\n",
        "\n",
        "clasificacion = [a for a in lista if a.startswhith(\"A000\") and len(a)==9]\n",
        "print(f\"Hay {len(clasificacion)} estudiante(s) de los Andes y sus código(s) son {clasificacion}\")\n",
        "\n"
      ],
      "metadata": {
        "id": "gyQgScl2f8-n"
      },
      "execution_count": null,
      "outputs": []
    },
    {
      "cell_type": "markdown",
      "source": [
        "#10. Armith"
      ],
      "metadata": {
        "id": "lAGeD0Jsg_lx"
      }
    },
    {
      "cell_type": "code",
      "source": [
        "#Tradicional\n",
        "num=[1,2,3,4,5,6,7,8,9,10]\n",
        "exp=int(input(\"Escriba su exponente: \"))\n",
        "x=len(num)\n",
        "for n in range(1,(x)):\n",
        "  num[n]=num[n]**exp\n",
        "print(num)\n",
        "\n",
        "def imprimir(num):\n",
        "  s=1\n",
        "  for i in num:\n",
        "    print(f\"\\nEl resultado del elemento {s} de la lista es {i}\")\n",
        "    s+=1\n",
        "imprimir(num)"
      ],
      "metadata": {
        "id": "HBpNDvmMhDHH"
      },
      "execution_count": null,
      "outputs": []
    },
    {
      "cell_type": "code",
      "source": [
        "#Comprensión\n",
        "num=[1,2,3,4,5,6,7,8,9,10]\n",
        "exp=int(input(\"Escriba su exponente: \"))\n",
        "numeros=[n**exp for n in num]\n",
        "numeros\n",
        "imprimir(numeros)"
      ],
      "metadata": {
        "id": "pGFBGGuoiG4W"
      },
      "execution_count": null,
      "outputs": []
    },
    {
      "cell_type": "code",
      "source": [
        "#Lambda\n",
        "num=list(range(1,11))\n",
        "exp=int(input(\"Escriba su exponente: \"))\n",
        "numeros=lambda num,exp:(n**exp for n in num)\n",
        "numeros1=numeros(num,exp)\n",
        "imprimir(list(numero1))"
      ],
      "metadata": {
        "id": "xQxcQiFriVEB"
      },
      "execution_count": null,
      "outputs": []
    },
    {
      "cell_type": "markdown",
      "source": [
        "#DICCIONARIOS POR COMPRENSIÓN"
      ],
      "metadata": {
        "id": "pcdWl8E1IeWl"
      }
    },
    {
      "cell_type": "markdown",
      "source": [
        "#1. Santiago Carvajal"
      ],
      "metadata": {
        "id": "TtcDFXhHIheU"
      }
    },
    {
      "cell_type": "markdown",
      "source": [
        "##**Como usar la compresión de diccionario para crear un diccionario de Python de una iteración**\n",
        "\n",
        "###Podemos crear un nuevo diccionario en Python usando solamente un iterable si elegimos generar ya sea las claves o los valores en marcha.\n",
        "\n",
        "###Cuando elegimos generar los valores en cuestión, podemos usar los ítems en el iterable cómo claves, y viceversa.\n",
        "###La sintaxis general es mostrada abajo. Por favor, observa que los nombres entre <> son marcadores de posición para los nombres actuales de las variables.\n",
        "\n",
        "#Ejemplo 1\n",
        "###Supongamos que tenemos una lista de clientes que visitan nuestra tienda, y nos gustaría ofrecer un descuento aleatorio a cada cliente. Nos gustaría además, que el valor de descuento se encuentre entre $1 y $100.\n",
        "\n",
        "###En Python, random.randint(i,j) retorna un valor entre i y j incluyendo ambos extremos.\n",
        "###Por tanto, podemos utilizar la función randint() para generar un descuento entre   $1 y $100 para cada cliente en la lista.\n",
        "###El siguiente código nos mostrará cómo podemos crear un diccionario de descuentos a partir de la lista de clientes."
      ],
      "metadata": {
        "id": "KAuZ1pitJOOc"
      }
    },
    {
      "cell_type": "code",
      "source": [
        "#Comprensión\n",
        "import random\n",
        "clientes = [\"Alex\",\"Bob\",\"Carol\",\"Dave\",\"Flow\",\"Katie\",\"Nate\"]\n",
        "diccionario_descuentos = {cliente:random.randint(1,100) for cliente in clientes}\n",
        "print(diccionario_descuentos)\n",
        "#Resultado"
      ],
      "metadata": {
        "colab": {
          "base_uri": "https://localhost:8080/"
        },
        "id": "3B6bukdYJ8j-",
        "outputId": "5f6b491d-6934-4dae-dc22-2b2b6bdf51d6"
      },
      "execution_count": 1,
      "outputs": [
        {
          "output_type": "stream",
          "name": "stdout",
          "text": [
            "{'Alex': 48, 'Bob': 10, 'Carol': 83, 'Dave': 4, 'Flow': 25, 'Katie': 69, 'Nate': 85}\n"
          ]
        }
      ]
    },
    {
      "cell_type": "code",
      "source": [
        "#Lambda\n",
        "import random\n",
        "clientes = [\"Alex\",\"Bob\",\"Carol\",\"Dave\",\"Flow\",\"Katie\",\"Nate\"]\n",
        "diccionario_descuentos=(dict(map(lambda diccionario_descuentos,random.randint(1,100))))\n",
        "print(diccionario_descuentos)"
      ],
      "metadata": {
        "id": "hPWR4ZA6KJtO"
      },
      "execution_count": null,
      "outputs": []
    },
    {
      "cell_type": "markdown",
      "source": [
        "#2. Juan David Vargas"
      ],
      "metadata": {
        "id": "nj_Z6fz2Kym2"
      }
    },
    {
      "cell_type": "code",
      "source": [
        "Productos=[\"milk\",\"bread\",\"butter\",\"apple\",\"watermelon\",\"banana\",\"candy\",\"water\",\"ice cream\",\"sugar\"]\n",
        "precio=[3,4,10,2,5,4,5,3,2,9,5,6.5]\n",
        "precio_productos={Productos:precio for (Productos,precio) in zip(Productos,precio)}\n",
        "print(precio_productos)"
      ],
      "metadata": {
        "colab": {
          "base_uri": "https://localhost:8080/"
        },
        "id": "TNcG8lmNOkTJ",
        "outputId": "8099b600-d4e8-4dc5-c6fd-0a96ef43d783"
      },
      "execution_count": 7,
      "outputs": [
        {
          "output_type": "stream",
          "name": "stdout",
          "text": [
            "{'milk': 3, 'bread': 4, 'butter': 10, 'apple': 2, 'watermelon': 5, 'banana': 4, 'candy': 5, 'water': 3, 'ice cream': 2, 'sugar': 9}\n"
          ]
        }
      ]
    },
    {
      "cell_type": "code",
      "source": [
        "Descuentos={Productos:precio for (Productos, precio) in precio_productos.items() if precio<5}\n",
        "print(Descuentos)"
      ],
      "metadata": {
        "colab": {
          "base_uri": "https://localhost:8080/"
        },
        "id": "mCEpXWBkKyK2",
        "outputId": "71f067a9-bd78-424c-ea90-ce4c8ef93414"
      },
      "execution_count": 9,
      "outputs": [
        {
          "output_type": "stream",
          "name": "stdout",
          "text": [
            "{'milk': 3, 'bread': 4, 'apple': 2, 'banana': 4, 'water': 3, 'ice cream': 2}\n"
          ]
        }
      ]
    },
    {
      "cell_type": "markdown",
      "source": [
        "#3. Jaime"
      ],
      "metadata": {
        "id": "EvRxzgovK7SW"
      }
    },
    {
      "cell_type": "code",
      "source": [
        "Productos={\"papas\":1300, \"helados\":2300,\"dulces\":800,\"leche\":4200}\n",
        "Operación={x:y*1.19 for (x,y) in Productos.items()}\n",
        "print(f\"El precio sin IVA de los productos es: {Productos}\")\n",
        "print(\"**\"*60)\n",
        "print(f\"El precio con IVA de los productos es: {Operación}\")"
      ],
      "metadata": {
        "colab": {
          "base_uri": "https://localhost:8080/"
        },
        "id": "k5Do5004K-LA",
        "outputId": "f5481d62-0c38-4ee4-9475-185574d12052"
      },
      "execution_count": 4,
      "outputs": [
        {
          "output_type": "stream",
          "name": "stdout",
          "text": [
            "El precio sin IVA de los productos es: {'papas': 1300, 'helados': 2300, 'dulces': 800, 'leche': 4200}\n",
            "************************************************************************************************************************\n",
            "El precio con IVA de los productos es: {'papas': 1547.0, 'helados': 2737.0, 'dulces': 952.0, 'leche': 4998.0}\n"
          ]
        }
      ]
    },
    {
      "cell_type": "code",
      "source": [
        "#Lambda\n",
        "tienda={\"papas\":1300, \"helados\":2300,\"dulces\":800,\"leche\":4200}\n",
        "compra=[\"papas\",\"jugos\",\"helados\",\"dulces\",\"leche\"]\n",
        "\n",
        "IVA=dict(map(lambda producto:(producto,tienda[producto]) if producto in tienda else (producto, None), compra))\n",
        "IVA"
      ],
      "metadata": {
        "colab": {
          "base_uri": "https://localhost:8080/"
        },
        "id": "3yAP_NETMflx",
        "outputId": "130f22a0-803b-4fde-8710-e04a9c195ff9"
      },
      "execution_count": 5,
      "outputs": [
        {
          "output_type": "execute_result",
          "data": {
            "text/plain": [
              "{'papas': 1300, 'jugos': None, 'helados': 2300, 'dulces': 800, 'leche': 4200}"
            ]
          },
          "metadata": {},
          "execution_count": 5
        }
      ]
    },
    {
      "cell_type": "markdown",
      "source": [
        "#4. Leandro"
      ],
      "metadata": {
        "id": "w5wxhX6fP1hI"
      }
    },
    {
      "cell_type": "code",
      "source": [
        "#Tradicional\n",
        "\n",
        "def check_temp(value):\n",
        "  if value >=70:\n",
        "    return \"hot\"\n",
        "  elif 69 >= value >= 40:\n",
        "    return \"warn\"\n",
        "  else:\n",
        "    return \"cold\"\n",
        "\n",
        "cities={\"New York\":32, \"Boston\":75, \"Los Angeles\":100, \"Chicago\":50}\n",
        "des_cities={key: check_temp(value) for (key,value) in cities.items()}\n",
        "print(des_cities)\n"
      ],
      "metadata": {
        "colab": {
          "base_uri": "https://localhost:8080/"
        },
        "id": "nlPeTDt-P71Q",
        "outputId": "fd1936b6-03ee-4bb3-9a1d-9edccb95251f"
      },
      "execution_count": 15,
      "outputs": [
        {
          "output_type": "stream",
          "name": "stdout",
          "text": [
            "{'New York': 'cold', 'Boston': 'hot', 'Los Angeles': 'hot', 'Chicago': 'warn'}\n"
          ]
        }
      ]
    },
    {
      "cell_type": "code",
      "source": [
        "def check_temp(value):\n",
        "  if value >=70:\n",
        "    return \"hot\"\n",
        "  elif 69 >= value >= 40:\n",
        "    return \"warn\"\n",
        "  else:\n",
        "    return \"cold\"\n",
        "\n",
        "cities={\"New York\":32, \"Boston\":75, \"Los Angeles\":100, \"Chicago\":50}\n",
        "des_cities= dict(map(lambda cit: check_temp(cities.values(cit), cities.items()))\n",
        "#Another form\n",
        "des_cities={key: check_temp(value) for (key,value) in cities.items()}\n",
        "print(des_cities)"
      ],
      "metadata": {
        "colab": {
          "base_uri": "https://localhost:8080/",
          "height": 130
        },
        "id": "SWp1CMQ9RWhx",
        "outputId": "262ec8a1-22bb-41f5-9dbc-2426aa9ee649"
      },
      "execution_count": 17,
      "outputs": [
        {
          "output_type": "error",
          "ename": "SyntaxError",
          "evalue": "ignored",
          "traceback": [
            "\u001b[0;36m  File \u001b[0;32m\"<ipython-input-17-89d9f18e30a8>\"\u001b[0;36m, line \u001b[0;32m12\u001b[0m\n\u001b[0;31m    des_cities={key: check_temp(value) for (key,value) in cities.items()}\u001b[0m\n\u001b[0m             ^\u001b[0m\n\u001b[0;31mSyntaxError\u001b[0m\u001b[0;31m:\u001b[0m invalid syntax\n"
          ]
        }
      ]
    },
    {
      "cell_type": "markdown",
      "source": [
        "#5. Sebastian\n"
      ],
      "metadata": {
        "id": "nUbLcgWbTLRK"
      }
    },
    {
      "cell_type": "code",
      "source": [
        "#Tradicional\n",
        "import random\n",
        "compañeros=[]\n",
        "def aleatorio(opciones):\n",
        "  opciones= list(opciones)\n",
        "  while True:\n",
        "    x = random.choice(opciones)\n",
        "    opciones.remove(x)\n",
        "    yield x\n",
        "print(\"Para no agregar mas nombres escibre 'B'\")\n",
        "a=\"t\"\n",
        "while a!=\"0\":\n",
        "  a=(input(\"Ingresa el nombre de tu compañero: \"))\n",
        "  if a!=\"0\":\n",
        "    compañeros.append(a)\n",
        "cantidad=len(compañeros)\n",
        "contador=0\n",
        "numeros=[]\n",
        "while contador != (cantidad+1):\n",
        "  contador+=1\n",
        "  numeros.append(contador)\n",
        "alt=aleatorio(numeros)\n",
        "num_alt={}\n",
        "for s in range(cantidad):\n",
        "  num_alt[compañeros[s]]=next(alt)\n",
        "print(num_alt)"
      ],
      "metadata": {
        "id": "WZb_am6VTQD-"
      },
      "execution_count": null,
      "outputs": []
    },
    {
      "cell_type": "code",
      "source": [
        "#Comprensión\n",
        "import random\n",
        "compañeros=[]\n",
        "def aleatorio(opciones):\n",
        "  opciones= list(opciones)\n",
        "  while True:\n",
        "    x = random.choice(opciones)\n",
        "    opciones.remove(x)\n",
        "    yield x\n",
        "print(\"Para no agregar mas nombres escibre 'B'\")\n",
        "a=\"t\"\n",
        "while a!=\"0\":\n",
        "  a=(input(\"Ingresa el nombre de tu compañero: \"))\n",
        "  if a!=\"0\":\n",
        "    compañeros.append(a)\n",
        "cantidad=len(compañeros)\n",
        "numeros=[num for num in range(1, (cantidad+1))]\n",
        "alt=aleatorio(numeros)\n",
        "num_alt={orden:next(alt) for orden in compañeros }\n",
        "print(num_alt)"
      ],
      "metadata": {
        "colab": {
          "base_uri": "https://localhost:8080/",
          "height": 397
        },
        "id": "1qXh3AUHVQ4F",
        "outputId": "83dddb99-f206-48cf-9223-0da0f63b7f6b"
      },
      "execution_count": 19,
      "outputs": [
        {
          "output_type": "stream",
          "name": "stdout",
          "text": [
            "Para no agregar mas nombres escibre 'B'\n"
          ]
        },
        {
          "output_type": "error",
          "ename": "KeyboardInterrupt",
          "evalue": "ignored",
          "traceback": [
            "\u001b[0;31m---------------------------------------------------------------------------\u001b[0m",
            "\u001b[0;31mKeyboardInterrupt\u001b[0m                         Traceback (most recent call last)",
            "\u001b[0;32m<ipython-input-19-4d8c2f44d63a>\u001b[0m in \u001b[0;36m<module>\u001b[0;34m\u001b[0m\n\u001b[1;32m     11\u001b[0m \u001b[0ma\u001b[0m\u001b[0;34m=\u001b[0m\u001b[0;34m\"t\"\u001b[0m\u001b[0;34m\u001b[0m\u001b[0;34m\u001b[0m\u001b[0m\n\u001b[1;32m     12\u001b[0m \u001b[0;32mwhile\u001b[0m \u001b[0ma\u001b[0m\u001b[0;34m!=\u001b[0m\u001b[0;34m\"0\"\u001b[0m\u001b[0;34m:\u001b[0m\u001b[0;34m\u001b[0m\u001b[0;34m\u001b[0m\u001b[0m\n\u001b[0;32m---> 13\u001b[0;31m   \u001b[0ma\u001b[0m\u001b[0;34m=\u001b[0m\u001b[0;34m(\u001b[0m\u001b[0minput\u001b[0m\u001b[0;34m(\u001b[0m\u001b[0;34m\"Ingresa el nombre de tu compañero: \"\u001b[0m\u001b[0;34m)\u001b[0m\u001b[0;34m)\u001b[0m\u001b[0;34m\u001b[0m\u001b[0;34m\u001b[0m\u001b[0m\n\u001b[0m\u001b[1;32m     14\u001b[0m   \u001b[0;32mif\u001b[0m \u001b[0ma\u001b[0m\u001b[0;34m!=\u001b[0m\u001b[0;34m\"0\"\u001b[0m\u001b[0;34m:\u001b[0m\u001b[0;34m\u001b[0m\u001b[0;34m\u001b[0m\u001b[0m\n\u001b[1;32m     15\u001b[0m     \u001b[0mcompañeros\u001b[0m\u001b[0;34m.\u001b[0m\u001b[0mappend\u001b[0m\u001b[0;34m(\u001b[0m\u001b[0ma\u001b[0m\u001b[0;34m)\u001b[0m\u001b[0;34m\u001b[0m\u001b[0;34m\u001b[0m\u001b[0m\n",
            "\u001b[0;32m/usr/local/lib/python3.7/dist-packages/ipykernel/kernelbase.py\u001b[0m in \u001b[0;36mraw_input\u001b[0;34m(self, prompt)\u001b[0m\n\u001b[1;32m    861\u001b[0m             \u001b[0mself\u001b[0m\u001b[0;34m.\u001b[0m\u001b[0m_parent_ident\u001b[0m\u001b[0;34m,\u001b[0m\u001b[0;34m\u001b[0m\u001b[0;34m\u001b[0m\u001b[0m\n\u001b[1;32m    862\u001b[0m             \u001b[0mself\u001b[0m\u001b[0;34m.\u001b[0m\u001b[0m_parent_header\u001b[0m\u001b[0;34m,\u001b[0m\u001b[0;34m\u001b[0m\u001b[0;34m\u001b[0m\u001b[0m\n\u001b[0;32m--> 863\u001b[0;31m             \u001b[0mpassword\u001b[0m\u001b[0;34m=\u001b[0m\u001b[0;32mFalse\u001b[0m\u001b[0;34m,\u001b[0m\u001b[0;34m\u001b[0m\u001b[0;34m\u001b[0m\u001b[0m\n\u001b[0m\u001b[1;32m    864\u001b[0m         )\n\u001b[1;32m    865\u001b[0m \u001b[0;34m\u001b[0m\u001b[0m\n",
            "\u001b[0;32m/usr/local/lib/python3.7/dist-packages/ipykernel/kernelbase.py\u001b[0m in \u001b[0;36m_input_request\u001b[0;34m(self, prompt, ident, parent, password)\u001b[0m\n\u001b[1;32m    902\u001b[0m             \u001b[0;32mexcept\u001b[0m \u001b[0mKeyboardInterrupt\u001b[0m\u001b[0;34m:\u001b[0m\u001b[0;34m\u001b[0m\u001b[0;34m\u001b[0m\u001b[0m\n\u001b[1;32m    903\u001b[0m                 \u001b[0;31m# re-raise KeyboardInterrupt, to truncate traceback\u001b[0m\u001b[0;34m\u001b[0m\u001b[0;34m\u001b[0m\u001b[0;34m\u001b[0m\u001b[0m\n\u001b[0;32m--> 904\u001b[0;31m                 \u001b[0;32mraise\u001b[0m \u001b[0mKeyboardInterrupt\u001b[0m\u001b[0;34m(\u001b[0m\u001b[0;34m\"Interrupted by user\"\u001b[0m\u001b[0;34m)\u001b[0m \u001b[0;32mfrom\u001b[0m \u001b[0;32mNone\u001b[0m\u001b[0;34m\u001b[0m\u001b[0;34m\u001b[0m\u001b[0m\n\u001b[0m\u001b[1;32m    905\u001b[0m             \u001b[0;32mexcept\u001b[0m \u001b[0mException\u001b[0m \u001b[0;32mas\u001b[0m \u001b[0me\u001b[0m\u001b[0;34m:\u001b[0m\u001b[0;34m\u001b[0m\u001b[0;34m\u001b[0m\u001b[0m\n\u001b[1;32m    906\u001b[0m                 \u001b[0mself\u001b[0m\u001b[0;34m.\u001b[0m\u001b[0mlog\u001b[0m\u001b[0;34m.\u001b[0m\u001b[0mwarning\u001b[0m\u001b[0;34m(\u001b[0m\u001b[0;34m\"Invalid Message:\"\u001b[0m\u001b[0;34m,\u001b[0m \u001b[0mexc_info\u001b[0m\u001b[0;34m=\u001b[0m\u001b[0;32mTrue\u001b[0m\u001b[0;34m)\u001b[0m\u001b[0;34m\u001b[0m\u001b[0;34m\u001b[0m\u001b[0m\n",
            "\u001b[0;31mKeyboardInterrupt\u001b[0m: Interrupted by user"
          ]
        }
      ]
    },
    {
      "cell_type": "code",
      "source": [
        "#Lambda\n",
        "import random\n",
        "compañeros=[]\n",
        "def aleatorio(opciones):\n",
        "  opciones= list(opciones)\n",
        "  while True:\n",
        "    x = random.choice(opciones)\n",
        "    opciones.remove(x)\n",
        "    yield x\n",
        "print(\"Para no agregar mas nombres escibre 'B'\")\n",
        "a=\"t\"\n",
        "while a!=\"0\":\n",
        "  a=(input(\"Ingresa el nombre de tu compañero: \"))\n",
        "  if a!=\"0\":\n",
        "    compañeros.append(a)\n",
        "cantidad=len(compañeros)\n",
        "valores=[ n for n in range (1, cantidad+1)]\n",
        "numeros=list(map(lambda num:num, valores))\n",
        "alt = aleatorio(numeros)\n",
        "num_alt=dict(map(lambda orden: (orden, next(alt) ), compañeros))\n",
        "print(num_alt)"
      ],
      "metadata": {
        "id": "QKz-3Y8TWHLr"
      },
      "execution_count": null,
      "outputs": []
    },
    {
      "cell_type": "markdown",
      "source": [
        "#6. Daniel"
      ],
      "metadata": {
        "id": "-4h2y8tpW7GM"
      }
    },
    {
      "cell_type": "code",
      "source": [
        "#Comprensión\n",
        "import random\n",
        "diccionario=[\"cliente 1\", \"cliente 2\", \"cliente 3\", \"cliente 4\", \"cliente 5\"]\n",
        "tienda={diccionario: random.randint(1000,100000) for diccionario in diccionario}\n",
        "tienda_sort=sorted(tienda.values())\n",
        "mayor=tienda_sort[-1]\n",
        "mayor1=tienda_sort[4::]\n",
        "cliente=list(tienda.values()).index(mayor)\n",
        "if cliente==0:\n",
        "  a=\"cliente 1\"\n",
        "if cliente==1:\n",
        "  a=\"cliente 2\"\n",
        "if cliente==2:\n",
        "  a=\"cliente 3\"\n",
        "if cliente==3:\n",
        "  a=\"cliente 4\"\n",
        "if cliente==4:\n",
        "  a=\"cliente 5\"\n",
        "oferta=(producto*0.8 for producto in mayor1)\n",
        "print(f\"El {a} tuvo la mayor compra con un valor de: {mayor}, por lo tanto obtuvo un descuento del 20%, su total fue: {oferta}\")\n"
      ],
      "metadata": {
        "colab": {
          "base_uri": "https://localhost:8080/"
        },
        "id": "cDN-YJKRW-Ks",
        "outputId": "c38b6b63-ad1b-4c1e-8e18-22f8c9dd9d81"
      },
      "execution_count": 20,
      "outputs": [
        {
          "output_type": "stream",
          "name": "stdout",
          "text": [
            "El cliente 2 tuvo la mayor compra con un valor de: 85208, por lo tanto obtuvo un descuento del 20%, su total fue: <generator object <genexpr> at 0x7f1cc26eab50>\n"
          ]
        }
      ]
    },
    {
      "cell_type": "code",
      "source": [
        "#Tradicional\n",
        "import random\n",
        "diccionario=[\"cliente 1\", \"cliente 2\", \"cliente 3\", \"cliente 4\", \"cliente 5\"]\n",
        "def cositas(a):\n",
        " tienda={diccionario: random.randint(1000,100000) for diccionario in diccionario}\n",
        " tienda_sort=sorted(tienda.values())\n",
        " mayor=tienda_sort[-1]\n",
        " mayor1=tienda_sort[4::]\n",
        " cliente=list(tienda.values()).index(mayor)\n",
        " if cliente==0:\n",
        "  a=\"cliente 1\"\n",
        " if cliente==1:\n",
        "  a=\"cliente 2\"\n",
        " if cliente==2:\n",
        "  a=\"cliente 3\"\n",
        " if cliente==3:\n",
        "  a=\"cliente 4\"\n",
        " if cliente==4:\n",
        "  a=\"cliente 5\"\n",
        " oferta=(producto*0.8 for producto in mayor1)\n",
        "print(f\"El {a} tuvo la mayor compra con un valor de: {mayor}, por lo tanto obtuvo un descuento del 20%, su total fue: {oferta}\")\n",
        "cositas(diccionario)"
      ],
      "metadata": {
        "colab": {
          "base_uri": "https://localhost:8080/"
        },
        "id": "DvQcQyrAY5mB",
        "outputId": "ea9f19ee-db02-476d-c50e-80f85d702897"
      },
      "execution_count": 22,
      "outputs": [
        {
          "output_type": "stream",
          "name": "stdout",
          "text": [
            "El cliente 2 tuvo la mayor compra con un valor de: 85208, por lo tanto obtuvo un descuento del 20%, su total fue: <generator object <genexpr> at 0x7f1cc26eab50>\n"
          ]
        }
      ]
    },
    {
      "cell_type": "code",
      "source": [
        "#Lambda\n",
        "import random\n",
        "diccionario=[\"cliente 1\", \"cliente 2\", \"cliente 3\", \"cliente 4\", \"cliente 5\"]\n",
        "tienda=(dict(map(lambda tienda:(tienda,random.randint(1000,100000)),diccionario)))\n",
        "tienda_sort=sorted(tienda.values())\n",
        "mayor=tienda_sort[-1]\n",
        "mayor1=tienda_sort[4::]\n",
        "cliente=list(tienda.values()).index(mayor)\n",
        "oferta=(producto*0.8 for producto in mayor1)\n",
        "cositas=max(tienda,key=tienda.get)\n",
        "print(f\"El {cositas} tuvo la mayor compra con un valor de: {mayor}, por lo tanto obtuvo un descuento del 20%, su total fue: {oferta}\")"
      ],
      "metadata": {
        "colab": {
          "base_uri": "https://localhost:8080/"
        },
        "id": "vE98BMrJZqBe",
        "outputId": "832d3098-8584-46a3-c1eb-ee1b109b5b04"
      },
      "execution_count": 24,
      "outputs": [
        {
          "output_type": "stream",
          "name": "stdout",
          "text": [
            "El cliente 1 tuvo la mayor compra con un valor de: 98087, por lo tanto obtuvo un descuento del 20%, su total fue: <generator object <genexpr> at 0x7f1cc26cbdd0>\n"
          ]
        }
      ]
    },
    {
      "cell_type": "markdown",
      "source": [
        "#7. Adrian Parra"
      ],
      "metadata": {
        "id": "vZWvjU91bNAT"
      }
    },
    {
      "cell_type": "code",
      "source": [
        "#Comprensión\n",
        "nombre=str(input(\"Ingrese el nombre del atleta: \"))\n",
        "N=int(input(\"Ingrese el número de saltos: \"))\n",
        "\n",
        "def fun(nombre, a):\n",
        "  lista=[]\n",
        "  for i in range(0,a):\n",
        "    name=str(f\"Salto {i+1}\")\n",
        "    lista.append(name)\n",
        "  \n",
        "  print(\"-------------------\")\n",
        "  print(\"La altura de los saltos se mide en metros\")\n",
        "  dic_lista=(lista: float(input(f\"Ingrese la altura del salto: \")) for lista in lista)\n",
        "  distancia=sorted(dic_lista.values())\n",
        "  mayor=distancia[-1]\n",
        "  print(\"-------------------\")\n",
        "  print(f\"Atleta {nombre}:\")\n",
        "  print(dic_lista)\n",
        "  sum+=0\n",
        "  for i in dic_lista.values():\n",
        "    sum+=1\n",
        "  prom=sum/a\n",
        "  redprom=round(prom, 2)\n",
        "  print(f\"El promedio de los {a} saltos es de {redprom} metros, teniendo que el mayor fue aquell con {mayor} metros de altura\")\n",
        "\n",
        "fun(nombre ,N)"
      ],
      "metadata": {
        "colab": {
          "base_uri": "https://localhost:8080/",
          "height": 130
        },
        "id": "N4QIR5AvbQTC",
        "outputId": "b3b28c47-7afc-45cd-c88f-980d55da7509"
      },
      "execution_count": 26,
      "outputs": [
        {
          "output_type": "error",
          "ename": "SyntaxError",
          "evalue": "ignored",
          "traceback": [
            "\u001b[0;36m  File \u001b[0;32m\"<ipython-input-26-ea071f007b62>\"\u001b[0;36m, line \u001b[0;32m13\u001b[0m\n\u001b[0;31m    dic_lista=(lista: float(input(f\"Ingrese la altura del salto: \")) for lista in lista)\u001b[0m\n\u001b[0m                    ^\u001b[0m\n\u001b[0;31mSyntaxError\u001b[0m\u001b[0;31m:\u001b[0m invalid syntax\n"
          ]
        }
      ]
    },
    {
      "cell_type": "code",
      "source": [
        "#Lambda\n",
        "\n",
        "from functools import reduce\n",
        "\n",
        "nombre=str(input(\"Ingrese el nombre del atleta: \"))\n",
        "a=int(input(\"Ingrese el número de saltos: \"))\n",
        "\n",
        "\n",
        "lista=[]\n",
        "for i in range(0,a):\n",
        "  name=str(f\"Salto {i+1}\")\n",
        "  lista.append(name)\n",
        "\n",
        "print(\"-------------------\")\n",
        "print(\"La altura de los saltos se mide en metros\")\n",
        "dic_lista=(dict(map(lambda x:(x, float(input(f\"Ingrese la altura del salto: \"))).lista)))\n",
        "distancia=sorted(dic_lista.values())\n",
        "mayor=distancia[-1]\n",
        "print(\"-------------------\")\n",
        "print(f\"Atleta {nombre}:\")\n",
        "print(dic_lista)\n",
        "\n",
        "sum=reduce(lambda distancia,distancia1:distancia+distancia1, distancia)\n",
        "\n",
        "prom=float(sum)/a\n",
        "redprom=round(prom, 2)\n",
        "print(f\"El promedio de los {a} saltos es de {redprom} metros, teniendo que el mayor fue aquel con {mayor} metros de altura\")"
      ],
      "metadata": {
        "colab": {
          "base_uri": "https://localhost:8080/",
          "height": 304
        },
        "id": "KVMNQTlxeFPY",
        "outputId": "b56af5ae-4ecf-4b7f-8d95-1fce402e8141"
      },
      "execution_count": 27,
      "outputs": [
        {
          "output_type": "stream",
          "name": "stdout",
          "text": [
            "Ingrese el nombre del atleta: www\n",
            "Ingrese el número de saltos: 45\n",
            "-------------------\n",
            "La altura de los saltos se mide en metros\n"
          ]
        },
        {
          "output_type": "error",
          "ename": "TypeError",
          "evalue": "ignored",
          "traceback": [
            "\u001b[0;31m---------------------------------------------------------------------------\u001b[0m",
            "\u001b[0;31mTypeError\u001b[0m                                 Traceback (most recent call last)",
            "\u001b[0;32m<ipython-input-27-cc65d14ea156>\u001b[0m in \u001b[0;36m<module>\u001b[0;34m\u001b[0m\n\u001b[1;32m     14\u001b[0m \u001b[0mprint\u001b[0m\u001b[0;34m(\u001b[0m\u001b[0;34m\"-------------------\"\u001b[0m\u001b[0;34m)\u001b[0m\u001b[0;34m\u001b[0m\u001b[0;34m\u001b[0m\u001b[0m\n\u001b[1;32m     15\u001b[0m \u001b[0mprint\u001b[0m\u001b[0;34m(\u001b[0m\u001b[0;34m\"La altura de los saltos se mide en metros\"\u001b[0m\u001b[0;34m)\u001b[0m\u001b[0;34m\u001b[0m\u001b[0;34m\u001b[0m\u001b[0m\n\u001b[0;32m---> 16\u001b[0;31m \u001b[0mdic_lista\u001b[0m\u001b[0;34m=\u001b[0m\u001b[0;34m(\u001b[0m\u001b[0mdict\u001b[0m\u001b[0;34m(\u001b[0m\u001b[0mmap\u001b[0m\u001b[0;34m(\u001b[0m\u001b[0;32mlambda\u001b[0m \u001b[0mx\u001b[0m\u001b[0;34m:\u001b[0m\u001b[0;34m(\u001b[0m\u001b[0mx\u001b[0m\u001b[0;34m,\u001b[0m \u001b[0mfloat\u001b[0m\u001b[0;34m(\u001b[0m\u001b[0minput\u001b[0m\u001b[0;34m(\u001b[0m\u001b[0;34mf\"Ingrese la altura del salto: \"\u001b[0m\u001b[0;34m)\u001b[0m\u001b[0;34m)\u001b[0m\u001b[0;34m)\u001b[0m\u001b[0;34m.\u001b[0m\u001b[0mlista\u001b[0m\u001b[0;34m)\u001b[0m\u001b[0;34m)\u001b[0m\u001b[0;34m)\u001b[0m\u001b[0;34m\u001b[0m\u001b[0;34m\u001b[0m\u001b[0m\n\u001b[0m\u001b[1;32m     17\u001b[0m \u001b[0mdistancia\u001b[0m\u001b[0;34m=\u001b[0m\u001b[0msorted\u001b[0m\u001b[0;34m(\u001b[0m\u001b[0mdic_lista\u001b[0m\u001b[0;34m.\u001b[0m\u001b[0mvalues\u001b[0m\u001b[0;34m(\u001b[0m\u001b[0;34m)\u001b[0m\u001b[0;34m)\u001b[0m\u001b[0;34m\u001b[0m\u001b[0;34m\u001b[0m\u001b[0m\n\u001b[1;32m     18\u001b[0m \u001b[0mmayor\u001b[0m\u001b[0;34m=\u001b[0m\u001b[0mdistancia\u001b[0m\u001b[0;34m[\u001b[0m\u001b[0;34m-\u001b[0m\u001b[0;36m1\u001b[0m\u001b[0;34m]\u001b[0m\u001b[0;34m\u001b[0m\u001b[0;34m\u001b[0m\u001b[0m\n",
            "\u001b[0;31mTypeError\u001b[0m: map() must have at least two arguments."
          ]
        }
      ]
    },
    {
      "cell_type": "markdown",
      "source": [
        "#8. Santiago Galindo"
      ],
      "metadata": {
        "id": "_8W2jMjAmiZl"
      }
    },
    {
      "cell_type": "code",
      "source": [
        "#Tradicional\n",
        "import random\n",
        "cs=[\"Andru\",\"David\",\"Sebas\"]\n",
        "CS=[\"Andres\",\"Flowey\",\"Cata\",\"Karen\"]\n",
        "DD={cs:random.randint(1,50) for cs in cs}\n",
        "DD1={CS:random.randint(1,50) for CS in CS}\n",
        "print(DD,DD1)"
      ],
      "metadata": {
        "id": "RvWboG_Dmmxz"
      },
      "execution_count": null,
      "outputs": []
    },
    {
      "cell_type": "code",
      "source": [
        "import random\n",
        "def A ():\n",
        "  cs=[\"Andru\",\"David\",\"Sebas\"]\n",
        "  CS=[\"Andres\",\"Flowey\",\"Cata\",\"Karen\"]\n",
        "  DD={cs:random.randint(1,50) for cs in cs}\n",
        "  DD1={CS:random.randint(1,50) for CS in CS}\n",
        "  return DD, DD1\n",
        "A()"
      ],
      "metadata": {
        "id": "HuYgIMXsnPuq"
      },
      "execution_count": null,
      "outputs": []
    },
    {
      "cell_type": "code",
      "source": [
        "#Lambda\n",
        "import random\n",
        "cs=[\"Andru\",\"David\",\"Sebas\"]\n",
        "CS=[\"Andres\",\"Flowey\",\"Cata\",\"Karen\"]\n",
        "DD=(dict(map(lambda DD:(DD,random.randint(1,50)),cs)))\n",
        "DD1=(dict(map(lambda DD1:(DD1,random.randint(1,50)),CS)))\n",
        "print(DD,DD1)\n"
      ],
      "metadata": {
        "id": "4DiFY58Dnu2m"
      },
      "execution_count": null,
      "outputs": []
    },
    {
      "cell_type": "markdown",
      "source": [
        "#9. Juan Zuluaga"
      ],
      "metadata": {
        "id": "BHNO51i5o3QD"
      }
    },
    {
      "cell_type": "code",
      "source": [
        "import random\n",
        "listado_numerico=[]\n",
        "while True:\n",
        "  nombres=str(input(\"Ingrese el nombre del cliente: \"))\n",
        "  listado_numerico.append(nombres)\n",
        "  confirmador=str(input(\"¿Hubo mas clientes el día de hoy?\"))\n",
        "  confirmador.lower()\n",
        "  if confirmador == \"no\":\n",
        "    break\n",
        "print(listado_numerico)\n",
        "catalogocomp={listado_numerico: random.randint(100,5000) for listado_numerico in listado_numerico}\n",
        "\n",
        "costes=sorted(catalogocomp)\n",
        "\n",
        "mayor=max(catalogocomp,key=catalogocomp.get)\n",
        "\n",
        "gastos= sum(catalogocomp.values())*0.8 if sum(catalogocomp.values())>10000 else sum(catalogocomp.values())\n",
        "print(mayor)\n",
        "\n",
        "descuentos_prod=[0.6,0,8,0.5]\n",
        "catalogo_descuentos={listado_numerico:random-choice(descuentos_prod)*random.randint(100,5000) for listado_numerico in listado_numerico if random.randint(100,5000)>4500 }"
      ],
      "metadata": {
        "id": "kZZVxhQ2o607"
      },
      "execution_count": null,
      "outputs": []
    },
    {
      "cell_type": "markdown",
      "source": [
        "#10. Juan Arenales"
      ],
      "metadata": {
        "id": "FrucCQp7rIIj"
      }
    },
    {
      "cell_type": "code",
      "source": [
        "#Comprensión\n",
        "import pandas as pd\n",
        "import random\n",
        "def menu(C,E,N,n):\n",
        "  b=int(input(\"Menú:\\n1)Añadir contacto\\n2)Eliminar contacto\\n3)Lista de contacto\\n4)Darle emojis aleatorios\\n\"))\n",
        "  if b==1:\n",
        "    d=input(\"Nombre: \")\n",
        "    f=d in n\n",
        "    while f==True:\n",
        "      d=input(\"Ya existe un contacto con ese nombre, escoja otro: \")\n",
        "      f=d in C[\"nombre\"]\n",
        "      e=input(\"Número:  \")\n",
        "      N.append(d)\n",
        "      n.append(e)\n",
        "      \n",
        "  if b==2\n",
        "  o=int(input(\"1)Eliminar por nombre\\n2)Eliminar por número\\n\"))\n",
        "  if o==1:\n",
        "    d=input(\"Nombre: \")\n",
        "    f=d in N \n",
        "    if f==False:\n",
        "      print(\"No existe un contacto con ese nombre\")\n",
        "    else:\n",
        "      i=N.index(d)\n",
        "      N.pop(i)\n",
        "      n.pop(i)\n",
        "  if o==2:\n",
        "    e=input(\"Número: \")\n",
        "    h= e in N\n",
        "    if h==False:\n",
        "       print(\"No existe un contacto con ese número\")\n",
        "    else:\n",
        "      i=n.index(e)\n",
        "      N.pop(i)\n",
        "      n.pop(i)\n",
        "  if b==3:\n",
        "    C={N[Z] for z in range(len(N)) }\n",
        "    print(C)\n",
        "  if b==4:\n",
        "    C={N[z]: (n[z],E[random.randint(0,3)]) for z in range(len(N)) }\n",
        "    print(pd.DataFrame.from_dict(C))\n",
        "\n",
        "  return C\n",
        "\n",
        "C={}\n",
        "E=[\"B)\",\":)\",\"<3\",\">:v\"] \n",
        "N=[\"juan\",\"Kyle\"]\n",
        "n=[\"453\",\"64782\"]\n",
        "\n",
        "a=True\n",
        "while a==True:\n",
        "  menu(C,E,N,n)\n",
        "  "
      ],
      "metadata": {
        "id": "o2b6NoFprLT8"
      },
      "execution_count": null,
      "outputs": []
    }
  ],
  "metadata": {
    "colab": {
      "collapsed_sections": [],
      "provenance": []
    },
    "kernelspec": {
      "display_name": "Python 3",
      "name": "python3"
    },
    "language_info": {
      "name": "python"
    }
  },
  "nbformat": 4,
  "nbformat_minor": 0
}