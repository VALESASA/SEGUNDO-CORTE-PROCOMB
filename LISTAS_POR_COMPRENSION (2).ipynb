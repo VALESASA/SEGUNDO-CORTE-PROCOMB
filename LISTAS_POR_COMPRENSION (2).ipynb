{
  "cells": [
    {
      "cell_type": "markdown",
      "metadata": {
        "id": "v5JhyupywfkL"
      },
      "source": [
        "#7. Hallar el IMC de dichos usuarios MIO Valentina\n"
      ]
    },
    {
      "cell_type": "code",
      "execution_count": null,
      "metadata": {
        "colab": {
          "base_uri": "https://localhost:8080/"
        },
        "id": "-xVH0Bqpk0YT",
        "outputId": "9d1c8483-e5c5-444e-8fd6-f3179ef18b02"
      },
      "outputs": [
        {
          "name": "stdout",
          "output_type": "stream",
          "text": [
            "¿Cuántos usuarios hay? 2\n",
            "¿Cuál es tu nombre?  ju\n",
            "Ingresa el peso  123\n",
            "Ingresa la altura  123\n",
            "¿Cuál es tu nombre?  jji\n",
            "Ingresa el peso  67\n",
            "Ingresa la altura  90\n"
          ]
        }
      ],
      "source": [
        "#Tradicional\n",
        "def listaIMC(usuarios):\n",
        "  sis = []\n",
        "  imc=[]\n",
        "  b=0\n",
        "  a2=0\n",
        "  for n in range (usuarios):\n",
        "    w=input(\"¿Cuál es tu nombre?  \") \n",
        "    sis.append((w,b/a2**2))\n",
        "    imc.append(b/a2**2)\n",
        "  return sis,imc\n",
        "\n",
        "\n",
        "user=int(input(\"¿Cuántos usuarios hay? \"))\n",
        "\n",
        "sis,imc=listaIMC(user)\n",
        "\n"
      ]
    },
    {
      "cell_type": "code",
      "execution_count": null,
      "metadata": {
        "colab": {
          "base_uri": "https://localhost:8080/"
        },
        "id": "zjHbu-3Bf0pd",
        "outputId": "2a5ea294-daaf-4747-8cd0-23c7bdea5d9f"
      },
      "outputs": [
        {
          "data": {
            "text/plain": [
              "[0.008130081300813009, 0.008271604938271605]"
            ]
          },
          "execution_count": 29,
          "metadata": {},
          "output_type": "execute_result"
        }
      ],
      "source": [
        "imc"
      ]
    },
    {
      "cell_type": "code",
      "execution_count": null,
      "metadata": {
        "colab": {
          "base_uri": "https://localhost:8080/"
        },
        "id": "kaHz4zL2qcKb",
        "outputId": "c63376ad-cc33-4d40-aa30-edb20a04fcc3"
      },
      "outputs": [
        {
          "name": "stdout",
          "output_type": "stream",
          "text": [
            "¿Cuál es tu nombre?  fbv\n",
            "Ingresa el peso  67\n",
            "Ingresa la altura  67\n",
            "¿Cuál es tu nombre?  hbn\n",
            "Ingresa el peso  45\n",
            "Ingresa la altura  67\n",
            "[]\n"
          ]
        }
      ],
      "source": [
        "#Comprensión\n",
        "sis=listaIMC(user)\n",
        "sis2=[n for n in imc if n>= 18.5]\n",
        "print(sis2)"
      ]
    },
    {
      "cell_type": "code",
      "execution_count": null,
      "metadata": {
        "colab": {
          "base_uri": "https://localhost:8080/"
        },
        "id": "33LXmlpUc3cw",
        "outputId": "6abb9bf1-acea-4253-e9cc-9cc7305876db"
      },
      "outputs": [
        {
          "data": {
            "text/plain": [
              "([('fbv', 0.014925373134328358), ('hbn', 0.010024504343951883)],\n",
              " [0.014925373134328358, 0.010024504343951883])"
            ]
          },
          "execution_count": 31,
          "metadata": {},
          "output_type": "execute_result"
        }
      ],
      "source": [
        "sis"
      ]
    },
    {
      "cell_type": "code",
      "execution_count": null,
      "metadata": {
        "colab": {
          "base_uri": "https://localhost:8080/"
        },
        "id": "kXdKzWLPdIuH",
        "outputId": "b96531ae-2a31-4b2e-f25a-8a84629236eb"
      },
      "outputs": [
        {
          "data": {
            "text/plain": [
              "0.010024504343951883"
            ]
          },
          "execution_count": 32,
          "metadata": {},
          "output_type": "execute_result"
        }
      ],
      "source": [
        "sis[1][1]"
      ]
    },
    {
      "cell_type": "code",
      "execution_count": null,
      "metadata": {
        "colab": {
          "base_uri": "https://localhost:8080/"
        },
        "id": "k7spxrJ4PAAb",
        "outputId": "5df5dda2-c039-4766-b688-0f563e1e2749"
      },
      "outputs": [
        {
          "data": {
            "text/plain": [
              "['peso insuficiente', 'peso insuficiente']"
            ]
          },
          "execution_count": 33,
          "metadata": {},
          "output_type": "execute_result"
        }
      ],
      "source": [
        "#Lambda\n",
        "#IMC2=[28,30,40,35,100]\n",
        "#sis=listaIMC(user)\n",
        "sis3=list(map(lambda x: \"peso insuficiente\" if x<18.5 else \"peso normal\" if (x>=18.5 and x<24.9) else \"sobrepeso\" if (x>=24.9 and x<30) else \"obesidad\",imc))\n",
        "sis3"
      ]
    },
    {
      "cell_type": "markdown",
      "metadata": {
        "id": "aaUIomsvktag"
      },
      "source": [
        "#EJERCICIOS COMPAÑEROS"
      ]
    },
    {
      "cell_type": "markdown",
      "metadata": {
        "id": "L0M9-vBuk6dw"
      },
      "source": [
        "#1. Samuelle"
      ]
    },
    {
      "cell_type": "markdown",
      "metadata": {
        "id": "Ok5-5ujfo2EZ"
      },
      "source": [
        "##La lista por comprensión es una construcción sintáctica disponible en Python con la que se pueden crear lista a partir de otros elementos iterables. Siendo una de las  contracciones mas elegantes del lenguaje. A continuación, se mostrará la sintaxis básica para trabajar  con las listas por comprensión"
      ]
    },
    {
      "cell_type": "code",
      "execution_count": null,
      "metadata": {
        "id": "LVVomvQSpcLg"
      },
      "outputs": [],
      "source": [
        "#Los tipos de datos mutables son todos aquellos a los que es posible cambia, modificar o actuar\n",
        "#Los objetos mutables más comunes son las listas, diccionarios y conjuntos que sirven para guiar\n",
        "\n",
        "#SINTAXIS DE LISTAS POR COMPRENSIÓN\n",
        "\n",
        "nueva_lista = [expresion bucle_for condiciones]\n",
        "\n",
        "#Entre corchetes se escribe una expresión seguida de un bucle for sobre el que se itera, para"
      ]
    },
    {
      "cell_type": "code",
      "execution_count": null,
      "metadata": {
        "id": "8N_NFssxqNVe"
      },
      "outputs": [],
      "source": [
        "#EJEMPLO\n",
        "\n",
        "numbers = [1,2,3,4]\n",
        "results = []\n",
        "for n in numbers:\n",
        "    results.append(n+1)\n",
        "    "
      ]
    },
    {
      "cell_type": "markdown",
      "metadata": {
        "id": "aY4PtEYvqg-j"
      },
      "source": [
        "#CONDICIONES EN LAS LISTAS POR COMPRENSIÓN\n",
        "##Es posible añadir condiciones a las listas por comprensión en Python. Para lo que se tiene que agregar un if al final con la condición"
      ]
    },
    {
      "cell_type": "code",
      "execution_count": null,
      "metadata": {
        "id": "dypobXSkqyoV"
      },
      "outputs": [],
      "source": [
        "numbers=[1,2,3,4]\n",
        "results =[n+1 for n in numbers if n < 5]\n",
        "results"
      ]
    },
    {
      "cell_type": "code",
      "execution_count": null,
      "metadata": {
        "id": "5aBuq-Ulk_8f"
      },
      "outputs": [],
      "source": [
        "results2=lambda numbers:results\n",
        "print(results2(numbers))"
      ]
    },
    {
      "cell_type": "markdown",
      "metadata": {
        "id": "3ql8oWq0rcTl"
      },
      "source": [
        "#2.Jesús"
      ]
    },
    {
      "cell_type": "code",
      "execution_count": null,
      "metadata": {
        "id": "3Snu_vy-rfA7"
      },
      "outputs": [],
      "source": [
        "n=int(input(\"Hasta que número quieres imprimir los pares e impares: \"))\n",
        "pares=[número for número in range(0,n+1) if número%2==0]\n",
        "print(pares)\n",
        "impares=[número for número in range (0,n+1) if número%2!=0]\n",
        "print(impares)"
      ]
    },
    {
      "cell_type": "code",
      "execution_count": null,
      "metadata": {
        "id": "Z0vcU_L_sLrA"
      },
      "outputs": [],
      "source": [
        "num=int(input(\"Hasta que número quieres imprimir los pares e impares: \"))\n",
        "def hola(n):\n",
        "  pares=[número for número in range(0,n+1) if número%2==0]\n",
        "  print(pares)\n",
        "  impares=[número for número in range (0,n+1) if número%2!=0]\n",
        "  print(impares)\n",
        "  hola(num)\n"
      ]
    },
    {
      "cell_type": "code",
      "execution_count": null,
      "metadata": {
        "id": "L73lUjQvspbJ"
      },
      "outputs": [],
      "source": [
        "num=int(input(\"Hasta que número quieres imprimir los pares e impares: \"))\n",
        "mi_lista=[n for n in range(0,num+1)]\n",
        "impares=list(filter(lambda num:num%2==0,mi_lista))\n",
        "print(impares)\n",
        "pares=list(filter(lambda num:num%2!=0,mi_lista))\n",
        "print(pares)"
      ]
    },
    {
      "cell_type": "markdown",
      "metadata": {
        "id": "fMCAoSWwmUys"
      },
      "source": [
        "#3. Jhon"
      ]
    },
    {
      "cell_type": "code",
      "execution_count": null,
      "metadata": {
        "colab": {
          "base_uri": "https://localhost:8080/"
        },
        "id": "Ql54iY_FmWzE",
        "outputId": "ddeaa096-b3b4-48e6-b401-3a6ac351bc12"
      },
      "outputs": [
        {
          "name": "stdout",
          "output_type": "stream",
          "text": [
            "es número perfecto\n"
          ]
        },
        {
          "data": {
            "text/plain": [
              "True"
            ]
          },
          "execution_count": 67,
          "metadata": {},
          "output_type": "execute_result"
        }
      ],
      "source": [
        "#Tradicional\n",
        "def perfecto(número):\n",
        "  perf=0\n",
        "  for i in range (1,número):\n",
        "    if número %i==0:\n",
        "      perf+=i\n",
        "  if perf ==número:\n",
        "    print(\"es número perfecto\")\n",
        "    return True\n",
        "  else:\n",
        "    print(\"no es número perfecto\")\n",
        "número=6\n",
        "perfecto(número)\n"
      ]
    },
    {
      "cell_type": "code",
      "execution_count": null,
      "metadata": {
        "id": "eHsQEt2OtZMh"
      },
      "outputs": [],
      "source": [
        "def numeros():\n",
        "  a=int(input(\"Ingresa un número\"))\n",
        "  b=int(input(\"Ingresa un número\"))\n",
        "  c=int(input(\"Ingresa un número\"))\n",
        "  d=int(input(\"Ingresa un número\"))\n",
        "  perfect=[a,b,c,d]\n",
        "\n",
        "  perfect1=[elemento for elemento in perfect if perfect(elemento)==True]\n",
        "numeros()"
      ]
    },
    {
      "cell_type": "code",
      "execution_count": null,
      "metadata": {
        "id": "Hbe7-SUMn6t4"
      },
      "outputs": [],
      "source": [
        "lista=[2,3,6,4]\n",
        "#Lambda y map\n",
        "perfect2=list(map(lambda elemento:perfecto(elemento)==True,lista))\n",
        "perfect2"
      ]
    },
    {
      "cell_type": "markdown",
      "metadata": {
        "id": "dQPz_ZNbneIr"
      },
      "source": [
        "#4. Juandivox"
      ]
    },
    {
      "cell_type": "code",
      "execution_count": null,
      "metadata": {
        "colab": {
          "base_uri": "https://localhost:8080/"
        },
        "id": "seDU-cXInjlS",
        "outputId": "025513db-d437-4b56-c95f-638b5065f310"
      },
      "outputs": [
        {
          "name": "stdout",
          "output_type": "stream",
          "text": [
            "[1513, 1894]\n"
          ]
        }
      ],
      "source": [
        "#Método tradicional\n",
        "numero1= [random.randint(0,2000) for x in range(100)]\n",
        "numero2= [random.randint(0,2000) for x in range(100)]\n",
        "comun=[]\n",
        "for a in numero1:\n",
        "  for b in numero2:\n",
        "    if a == b:\n",
        "      comun.append(a)\n",
        "print(comun)\n"
      ]
    },
    {
      "cell_type": "code",
      "execution_count": null,
      "metadata": {
        "colab": {
          "base_uri": "https://localhost:8080/"
        },
        "id": "E8mR4QF-o38i",
        "outputId": "612e7668-95c5-4288-fbc6-afc0e0a42f00"
      },
      "outputs": [
        {
          "name": "stdout",
          "output_type": "stream",
          "text": [
            "[427, 319, 762, 1970, 225, 1612, 1243, 1154]\n"
          ]
        }
      ],
      "source": [
        "#Método comprensión\n",
        "import random\n",
        "numero1= [random.randint(0,2000) for x in range(100)]\n",
        "numero2= [random.randint(0,2000) for x in range(100)]\n",
        "comun=[x for x in numero1 for y in numero2 if x==y]\n",
        "print(comun)"
      ]
    },
    {
      "cell_type": "code",
      "execution_count": null,
      "metadata": {
        "colab": {
          "base_uri": "https://localhost:8080/"
        },
        "id": "zzt5w8BMpVsX",
        "outputId": "ab6c067d-ad7a-469b-bfd1-48d0c51ada44"
      },
      "outputs": [
        {
          "name": "stdout",
          "output_type": "stream",
          "text": [
            "[1603, 1001, 866, 901, 1465]\n"
          ]
        }
      ],
      "source": [
        "#Método Lambda\n",
        "import random\n",
        "numero1= [random.randint(0,2000) for x in range(100)]\n",
        "numero2= [random.randint(0,2000) for x in range(100)]\n",
        "comun=[]\n",
        "comun=list(filter(lambda num:num in numero1,numero2))\n",
        "print(comun)"
      ]
    },
    {
      "cell_type": "markdown",
      "metadata": {
        "id": "I-tFemnLrGIu"
      },
      "source": [
        "#5. Daniel"
      ]
    },
    {
      "cell_type": "code",
      "execution_count": null,
      "metadata": {
        "colab": {
          "base_uri": "https://localhost:8080/"
        },
        "id": "IYXWJwW7rI62",
        "outputId": "dce0a4d5-1f50-4362-a20a-165872d219fe"
      },
      "outputs": [
        {
          "name": "stdout",
          "output_type": "stream",
          "text": [
            "25\n"
          ]
        }
      ],
      "source": [
        "#Tradicional\n",
        "def square1(num):\n",
        "  return num **2\n",
        "print(square1(5))"
      ]
    },
    {
      "cell_type": "code",
      "execution_count": null,
      "metadata": {
        "colab": {
          "base_uri": "https://localhost:8080/"
        },
        "id": "wrvb4wQ3rlTk",
        "outputId": "7dffd3e8-2504-496f-c521-86105447a85a"
      },
      "outputs": [
        {
          "name": "stdout",
          "output_type": "stream",
          "text": [
            "[4, 16, 36, 64]\n"
          ]
        }
      ],
      "source": [
        "#Comprensión\n",
        "L = [2,4,6,8]\n",
        "L2 = [n**2 for n in L]\n",
        "print(L2)"
      ]
    },
    {
      "cell_type": "code",
      "execution_count": null,
      "metadata": {
        "colab": {
          "base_uri": "https://localhost:8080/"
        },
        "id": "d9_EGX_SrxkT",
        "outputId": "6bb86e2e-e0d0-49ae-8db1-bc20c632885c"
      },
      "outputs": [
        {
          "data": {
            "text/plain": [
              "9"
            ]
          },
          "execution_count": 22,
          "metadata": {},
          "output_type": "execute_result"
        }
      ],
      "source": [
        "#Lambda\n",
        "lambda_func= lambda x:x**2\n",
        "lambda_func(3)"
      ]
    },
    {
      "cell_type": "markdown",
      "metadata": {
        "id": "ZXla5TWFsBac"
      },
      "source": [
        "#6. Angie"
      ]
    },
    {
      "cell_type": "code",
      "execution_count": null,
      "metadata": {
        "id": "v8L1JKvesDRx"
      },
      "outputs": [],
      "source": [
        "nom1 = [\"Samuelle\" ,\"Angie\" ,\"Valentina\" ,\"Alejandro\" ,\"Jonsito\"]\n",
        "nom2 = [\"Samuelle\" ,\"Andrea\" ,\"Sandra\" ,\"Anderson\" ,\"Jonsito\"]\n"
      ]
    },
    {
      "cell_type": "code",
      "execution_count": null,
      "metadata": {
        "colab": {
          "base_uri": "https://localhost:8080/"
        },
        "id": "TI31vOK8t9J7",
        "outputId": "c88686c0-a6b6-40ca-88cf-1f048e32a421"
      },
      "outputs": [
        {
          "data": {
            "text/plain": [
              "{'Jonsito', 'Samuelle'}"
            ]
          },
          "execution_count": 36,
          "metadata": {},
          "output_type": "execute_result"
        }
      ],
      "source": [
        "#Comprensión\n",
        "common={a for a in nom1 for b in nom2 if a == b}\n",
        "common"
      ]
    },
    {
      "cell_type": "code",
      "execution_count": null,
      "metadata": {
        "colab": {
          "base_uri": "https://localhost:8080/"
        },
        "id": "S19IP3WOuT3y",
        "outputId": "7a033c29-95c6-48dd-c359-51998e4eb79b"
      },
      "outputs": [
        {
          "name": "stdout",
          "output_type": "stream",
          "text": [
            "{'Jonsito', 'Samuelle'}\n"
          ]
        }
      ],
      "source": [
        "#Lambda\n",
        "common1=lambda nom1,nom2:common\n",
        "print(common1(nom1,nom2))"
      ]
    },
    {
      "cell_type": "code",
      "execution_count": null,
      "metadata": {
        "id": "jPfClwW2ug4i"
      },
      "outputs": [],
      "source": [
        "#Tradicional\n",
        "def common(nom1,nom2):\n",
        "  return nom1,nom2"
      ]
    },
    {
      "cell_type": "code",
      "execution_count": null,
      "metadata": {
        "colab": {
          "base_uri": "https://localhost:8080/"
        },
        "id": "ZlcHdV4Supo5",
        "outputId": "7247ce39-0584-41da-829e-6d81c179b123"
      },
      "outputs": [
        {
          "data": {
            "text/plain": [
              "(['Samuelle', 'Angie', 'Valentina', 'Alejandro', 'Jonsito'],\n",
              " ['Samuelle', 'Andrea', 'Sandra', 'Anderson', 'Jonsito'])"
            ]
          },
          "execution_count": 39,
          "metadata": {},
          "output_type": "execute_result"
        }
      ],
      "source": [
        "nom1,nom2"
      ]
    },
    {
      "cell_type": "markdown",
      "metadata": {
        "id": "oDVo85qeur-Z"
      },
      "source": [
        "#8. Luis Miguel"
      ]
    },
    {
      "cell_type": "code",
      "execution_count": null,
      "metadata": {
        "id": "xG215o02y0Pr"
      },
      "outputs": [],
      "source": [
        "#Tradicional\n",
        "print(\"ingrese su código \")\n",
        "caracter=input()\n",
        "if len(caracter) ==8:\n",
        "  if caracter[0]== \"u\":\n",
        "    print(\"Eres estudiante Unab\")\n",
        "  elif(caracter.startswhith(\"a000\")):\n",
        "    print(\"Eres estudiante de los andes\")\n",
        "  else:\n",
        "    if(int(caracter)>=1950):\n",
        "      print(\"Eres estudiante UIS\")\n",
        "else:\n",
        "  print(\"No corresponde a ninguna universidad, revisa tu código\")"
      ]
    },
    {
      "cell_type": "code",
      "execution_count": null,
      "metadata": {
        "colab": {
          "base_uri": "https://localhost:8080/"
        },
        "id": "ngRiZNSL1ZJA",
        "outputId": "81addd11-cf90-421b-a531-8a53ae0f9657"
      },
      "outputs": [
        {
          "name": "stdout",
          "output_type": "stream",
          "text": [
            "[]\n"
          ]
        }
      ],
      "source": [
        "#Comprensión\n",
        "universidades=[\"unab\",\"uis\",\"andes\"]\n",
        "codigo=[\"U0123456\",\"198562\",\"a0005645\"]\n",
        "\n",
        "u=[cod for cod in codigo if cod[0]==\"u\" and len(cod)==8]\n",
        "print(u)"
      ]
    },
    {
      "cell_type": "code",
      "execution_count": null,
      "metadata": {
        "colab": {
          "base_uri": "https://localhost:8080/"
        },
        "id": "qPrbLAHL18Iw",
        "outputId": "edec9c10-6236-4a62-e3d8-49e9af3c17c7"
      },
      "outputs": [
        {
          "name": "stdout",
          "output_type": "stream",
          "text": [
            "['unab', None, None]\n"
          ]
        }
      ],
      "source": [
        "#Lambda\n",
        "y=list(map(lambda x:\"unab\" if (x[0]==\"U\" or x[0]==\"u\")else None, codigo))\n",
        "print(y)"
      ]
    },
    {
      "cell_type": "markdown",
      "metadata": {
        "id": "CW9xiFv32rXq"
      },
      "source": [
        "#9. Christian"
      ]
    },
    {
      "cell_type": "code",
      "execution_count": null,
      "metadata": {
        "id": "0Us2NUKS2uXK"
      },
      "outputs": [],
      "source": [
        "#Tradicional\n",
        "def funcion(lista, numDigitos, Universidad, clasCodigo):\n",
        "  clasificacion=[a for a in lista if a.startswhith(clasCodigo) and len(a)==numDigitos]\n",
        "  print(f\"Hay {len(clasificacion)} estudiante(s) de {Universidad} y sus codigo(s) son {clasificacion}\")\n",
        "\n",
        "lista=[]\n",
        "x=0\n",
        "while x==0:\n",
        "  entrada = input(\"Ingresa un código\")\n",
        "  lista.append(entrada)\n",
        "  a=int(input(\"¿Deseas ingresa otro?, Ingresa 0 si lo deseas, sino ingresa 1\"))\n",
        "  if (a==1):\n",
        "    x=x+1\n",
        "\n",
        "funcion(lista,9,\"la Unab\",\"U00\")\n",
        "funcion(lista,9,\"los Andes\",\"A000\")\n"
      ]
    },
    {
      "cell_type": "code",
      "execution_count": null,
      "metadata": {
        "id": "A60yqk5U4qbG",
        "outputId": "dfdbd2a1-94d2-409b-88a3-00a19da0d90f",
        "colab": {
          "base_uri": "https://localhost:8080/"
        }
      },
      "outputs": [
        {
          "name": "stdout",
          "output_type": "stream",
          "text": [
            "Ingresa un código7483\n"
          ]
        }
      ],
      "source": [
        "#Lambda\n",
        "lista=[]\n",
        "x=0\n",
        "while x==0:\n",
        "  entrada = input(\"Ingresa un código\")\n",
        "  lista.append(entrada)\n",
        "  a=int(input(\"¿Deseas ingresa otro?, Ingresa 0 si lo deseas, sino ingresa 1\"))\n",
        "  if (a==1):\n",
        "    x=x+1\n",
        "lista1=[\"u00013246\",\"a001234643\",\"U00156837\"]\n",
        "clasificacion=list(map(lambda a:\"Unab\" if a.startswith(\"U00\") or a.startswith or a.startswith(\"u00\") else \"Los Andes\" if a.startswith(\"A000\") or a.startswith(\"a000\") else None, lista))\n",
        "clasificacion\n",
        "                       "
      ]
    },
    {
      "cell_type": "code",
      "source": [
        "lista1=[\"u00013246\" ,\"a001234643\" , \"U00156837\"]\n",
        "clasificacion = list(map(lambda a:print((f\"Hay {len(clasificacion)} estudiante(s) de la Unab\") if a.starswith(\"U00\") else print(f\"Hay {len(clasificacion)}\"))"
      ],
      "metadata": {
        "id": "6HDv-dY9e6Ru"
      },
      "execution_count": null,
      "outputs": []
    },
    {
      "cell_type": "code",
      "source": [
        "#Comprensión\n",
        "lista=[]\n",
        "x=0\n",
        "while x==0:\n",
        "  entrada = input(\"Ingresa un código\")\n",
        "  lista.append(entrada)\n",
        "  a=int(input(\"¿Deseas ingresa otro?, Ingresa 0 si lo deseas, sino ingresa 1\"))\n",
        "  if (a==1):\n",
        "    x=x+1\n",
        "\n",
        "clasificacion = [a for a in lista if a.startswith(\"U00\")and len(a)==9]\n",
        "print(f\"Hay {len(clasificacion)} estudiante(s) de la Unab y sus código(s) son {clasificacion}\")\n",
        "\n",
        "clasificacion = [a for a in lista if a.startswhith(\"A000\") and len(a)==9]\n",
        "print(f\"Hay {len(clasificacion)} estudiante(s) de los Andes y sus código(s) son {clasificacion}\")\n",
        "\n"
      ],
      "metadata": {
        "id": "gyQgScl2f8-n"
      },
      "execution_count": null,
      "outputs": []
    },
    {
      "cell_type": "markdown",
      "source": [
        "#10. Armith"
      ],
      "metadata": {
        "id": "lAGeD0Jsg_lx"
      }
    },
    {
      "cell_type": "code",
      "source": [
        "#Tradicional\n",
        "num=[1,2,3,4,5,6,7,8,9,10]\n",
        "exp=int(input(\"Escriba su exponente: \"))\n",
        "x=len(num)\n",
        "for n in range(1,(x)):\n",
        "  num[n]=num[n]**exp\n",
        "print(num)\n",
        "\n",
        "def imprimir(num):\n",
        "  s=1\n",
        "  for i in num:\n",
        "    print(f\"\\nEl resultado del elemento {s} de la lista es {i}\")\n",
        "    s+=1\n",
        "imprimir(num)"
      ],
      "metadata": {
        "id": "HBpNDvmMhDHH"
      },
      "execution_count": null,
      "outputs": []
    },
    {
      "cell_type": "code",
      "source": [
        "#Comprensión\n",
        "num=[1,2,3,4,5,6,7,8,9,10]\n",
        "exp=int(input(\"Escriba su exponente: \"))\n",
        "numeros=[n**exp for n in num]\n",
        "numeros\n",
        "imprimir(numeros)"
      ],
      "metadata": {
        "id": "pGFBGGuoiG4W"
      },
      "execution_count": null,
      "outputs": []
    },
    {
      "cell_type": "code",
      "source": [
        "#Lambda\n",
        "num=list(range(1,11))\n",
        "exp=int(input(\"Escriba su exponente: \"))\n",
        "numeros=lambda num,exp:(n**exp for n in num)\n",
        "numeros1=numeros(num,exp)\n",
        "imprimir(list(numero1))"
      ],
      "metadata": {
        "id": "xQxcQiFriVEB"
      },
      "execution_count": null,
      "outputs": []
    }
  ],
  "metadata": {
    "colab": {
      "collapsed_sections": [],
      "provenance": []
    },
    "kernelspec": {
      "display_name": "Python 3",
      "name": "python3"
    },
    "language_info": {
      "name": "python"
    }
  },
  "nbformat": 4,
  "nbformat_minor": 0
}